{
 "cells": [
  {
   "cell_type": "markdown",
   "metadata": {
    "application/vnd.databricks.v1+cell": {
     "cellMetadata": {
      "byteLimit": 2048000,
      "rowLimit": 10000
     },
     "inputWidgets": {},
     "nuid": "3a267b9d-3286-44bc-8a42-181cca9684d1",
     "showTitle": false,
     "tableResultSettingsMap": {},
     "title": ""
    }
   },
   "source": [
    "We want to categorize the countries in the 2019 happiness dataset. We will use the regions column in the 2015 dataset to achieve this."
   ]
  },
  {
   "cell_type": "code",
   "execution_count": 0,
   "metadata": {
    "application/vnd.databricks.v1+cell": {
     "cellMetadata": {
      "byteLimit": 2048000,
      "rowLimit": 10000
     },
     "inputWidgets": {},
     "nuid": "23aad56f-2721-471d-9213-fe19b8a024dd",
     "showTitle": false,
     "tableResultSettingsMap": {},
     "title": ""
    }
   },
   "outputs": [],
   "source": [
    "input_path = \"/FileStore/tables/2015.csv\"\n",
    "df = spark.read.format(\"csv\").option(\"header\", \"true\").load(input_path)\n"
   ]
  },
  {
   "cell_type": "markdown",
   "metadata": {
    "application/vnd.databricks.v1+cell": {
     "cellMetadata": {
      "byteLimit": 2048000,
      "rowLimit": 10000
     },
     "inputWidgets": {},
     "nuid": "804b4a4c-319e-4d44-b150-5c6974c67032",
     "showTitle": false,
     "tableResultSettingsMap": {},
     "title": ""
    }
   },
   "source": [
    "These are the top 20 happiest countries in 2015."
   ]
  },
  {
   "cell_type": "code",
   "execution_count": 0,
   "metadata": {
    "application/vnd.databricks.v1+cell": {
     "cellMetadata": {
      "byteLimit": 2048000,
      "rowLimit": 10000
     },
     "inputWidgets": {},
     "nuid": "c6dbf21c-6c29-4b3d-89c0-1a490ce64421",
     "showTitle": false,
     "tableResultSettingsMap": {},
     "title": ""
    }
   },
   "outputs": [
    {
     "output_type": "stream",
     "name": "stdout",
     "output_type": "stream",
     "text": [
      "+--------------------+--------------------+--------------+---------------+--------------+------------------------+-------+------------------------+-------+-----------------------------+----------+-----------------+\n|             Country|              Region|Happiness Rank|Happiness Score|Standard Error|Economy (GDP per Capita)| Family|Health (Life Expectancy)|Freedom|Trust (Government Corruption)|Generosity|Dystopia Residual|\n+--------------------+--------------------+--------------+---------------+--------------+------------------------+-------+------------------------+-------+-----------------------------+----------+-----------------+\n|         Switzerland|      Western Europe|             1|          7.587|       0.03411|                 1.39651|1.34951|                 0.94143|0.66557|                      0.41978|   0.29678|          2.51738|\n|             Iceland|      Western Europe|             2|          7.561|       0.04884|                 1.30232|1.40223|                 0.94784|0.62877|                      0.14145|    0.4363|          2.70201|\n|             Denmark|      Western Europe|             3|          7.527|       0.03328|                 1.32548|1.36058|                 0.87464|0.64938|                      0.48357|   0.34139|          2.49204|\n|              Norway|      Western Europe|             4|          7.522|        0.0388|                   1.459|1.33095|                 0.88521|0.66973|                      0.36503|   0.34699|          2.46531|\n|              Canada|       North America|             5|          7.427|       0.03553|                 1.32629|1.32261|                 0.90563|0.63297|                      0.32957|   0.45811|          2.45176|\n|             Finland|      Western Europe|             6|          7.406|        0.0314|                 1.29025|1.31826|                 0.88911|0.64169|                      0.41372|   0.23351|          2.61955|\n|         Netherlands|      Western Europe|             7|          7.378|       0.02799|                 1.32944|1.28017|                 0.89284|0.61576|                      0.31814|    0.4761|           2.4657|\n|              Sweden|      Western Europe|             8|          7.364|       0.03157|                 1.33171|1.28907|                 0.91087| 0.6598|                      0.43844|   0.36262|          2.37119|\n|         New Zealand|Australia and New...|             9|          7.286|       0.03371|                 1.25018|1.31967|                 0.90837|0.63938|                      0.42922|   0.47501|          2.26425|\n|           Australia|Australia and New...|            10|          7.284|       0.04083|                 1.33358|1.30923|                 0.93156|0.65124|                      0.35637|   0.43562|          2.26646|\n|              Israel|Middle East and N...|            11|          7.278|        0.0347|                 1.22857|1.22393|                 0.91387|0.41319|                      0.07785|   0.33172|          3.08854|\n|          Costa Rica|Latin America and...|            12|          7.226|       0.04454|                 0.95578|1.23788|                 0.86027|0.63376|                      0.10583|   0.25497|          3.17728|\n|             Austria|      Western Europe|            13|            7.2|       0.03751|                 1.33723|1.29704|                 0.89042|0.62433|                      0.18676|   0.33088|           2.5332|\n|              Mexico|Latin America and...|            14|          7.187|       0.04176|                 1.02054|0.91451|                 0.81444|0.48181|                      0.21312|   0.14074|          3.60214|\n|       United States|       North America|            15|          7.119|       0.03839|                 1.39451|1.24711|                 0.86179|0.54604|                       0.1589|   0.40105|          2.51011|\n|              Brazil|Latin America and...|            16|          6.983|       0.04076|                 0.98124|1.23287|                 0.69702|0.49049|                      0.17521|   0.14574|          3.26001|\n|          Luxembourg|      Western Europe|            17|          6.946|       0.03499|                 1.56391|1.21963|                 0.91894|0.61583|                      0.37798|   0.28034|          1.96961|\n|             Ireland|      Western Europe|            18|           6.94|       0.03676|                 1.33596|1.36948|                 0.89533|0.61777|                      0.28703|   0.45901|           1.9757|\n|             Belgium|      Western Europe|            19|          6.937|       0.03595|                 1.30782|1.28566|                 0.89667| 0.5845|                       0.2254|    0.2225|          2.41484|\n|United Arab Emirates|Middle East and N...|            20|          6.901|       0.03729|                 1.42727|1.12575|                 0.80925|0.64157|                      0.38583|   0.26428|          2.24743|\n+--------------------+--------------------+--------------+---------------+--------------+------------------------+-------+------------------------+-------+-----------------------------+----------+-----------------+\nonly showing top 20 rows\n\n"
     ]
    }
   ],
   "source": [
    "df.show()"
   ]
  },
  {
   "cell_type": "markdown",
   "metadata": {
    "application/vnd.databricks.v1+cell": {
     "cellMetadata": {
      "byteLimit": 2048000,
      "rowLimit": 10000
     },
     "inputWidgets": {},
     "nuid": "e49e60a4-9976-45b0-8c4d-e5a662fb0ce1",
     "showTitle": false,
     "tableResultSettingsMap": {},
     "title": ""
    }
   },
   "source": [
    "Categorize the countries into their respective regions."
   ]
  },
  {
   "cell_type": "code",
   "execution_count": 0,
   "metadata": {
    "application/vnd.databricks.v1+cell": {
     "cellMetadata": {
      "byteLimit": 2048000,
      "rowLimit": 10000
     },
     "inputWidgets": {},
     "nuid": "e2c164f1-cfca-4455-8bbb-6d7b250b117a",
     "showTitle": false,
     "tableResultSettingsMap": {},
     "title": ""
    }
   },
   "outputs": [
    {
     "output_type": "stream",
     "name": "stdout",
     "output_type": "stream",
     "text": [
      "\t Western Europe\n['Switzerland', 'Iceland', 'Denmark', 'Norway', 'Finland', 'Netherlands', 'Sweden', 'Austria', 'Luxembourg', 'Ireland', 'Belgium', 'United Kingdom', 'Germany', 'France', 'Spain', 'Malta', 'Italy', 'North Cyprus', 'Cyprus', 'Portugal', 'Greece'] \n\n\t North America\n['Canada', 'United States'] \n\n\t Australia and New Zealand\n['New Zealand', 'Australia'] \n\n\t Middle East and Northern Africa\n['Israel', 'United Arab Emirates', 'Oman', 'Qatar', 'Saudi Arabia', 'Kuwait', 'Bahrain', 'Libya', 'Algeria', 'Turkey', 'Jordan', 'Morocco', 'Lebanon', 'Tunisia', 'Palestinian Territories', 'Iran', 'Iraq', 'Egypt', 'Yemen', 'Syria'] \n\n\t Latin America and Caribbean\n['Costa Rica', 'Mexico', 'Brazil', 'Venezuela', 'Panama', 'Chile', 'Argentina', 'Uruguay', 'Colombia', 'Suriname', 'Trinidad and Tobago', 'El Salvador', 'Guatemala', 'Ecuador', 'Bolivia', 'Paraguay', 'Nicaragua', 'Peru', 'Jamaica', 'Dominican Republic', 'Honduras', 'Haiti'] \n\n\t Southeastern Asia\n['Singapore', 'Thailand', 'Malaysia', 'Indonesia', 'Vietnam', 'Philippines', 'Laos', 'Myanmar', 'Cambodia'] \n\n\t Central and Eastern Europe\n['Czech Republic', 'Uzbekistan', 'Slovakia', 'Moldova', 'Kazakhstan', 'Slovenia', 'Lithuania', 'Belarus', 'Poland', 'Croatia', 'Russia', 'Kosovo', 'Turkmenistan', 'Estonia', 'Kyrgyzstan', 'Azerbaijan', 'Montenegro', 'Romania', 'Serbia', 'Latvia', 'Macedonia', 'Albania', 'Bosnia and Herzegovina', 'Hungary', 'Tajikistan', 'Ukraine', 'Armenia', 'Georgia', 'Bulgaria'] \n\n\t Eastern Asia\n['Taiwan', 'Japan', 'South Korea', 'Hong Kong', 'China', 'Mongolia'] \n\n\t Sub-Saharan Africa\n['Mauritius', 'Nigeria', 'Zambia', 'Somaliland region', 'Mozambique', 'Lesotho', 'Swaziland', 'South Africa', 'Ghana', 'Zimbabwe', 'Liberia', 'Sudan', 'Congo (Kinshasa)', 'Ethiopia', 'Sierra Leone', 'Mauritania', 'Kenya', 'Djibouti', 'Botswana', 'Malawi', 'Cameroon', 'Angola', 'Mali', 'Congo (Brazzaville)', 'Comoros', 'Uganda', 'Senegal', 'Gabon', 'Niger', 'Tanzania', 'Madagascar', 'Central African Republic', 'Chad', 'Guinea', 'Ivory Coast', 'Burkina Faso', 'Rwanda', 'Benin', 'Burundi', 'Togo'] \n\n\t Southern Asia\n['Bhutan', 'Pakistan', 'Bangladesh', 'India', 'Nepal', 'Sri Lanka', 'Afghanistan'] \n\n\tAll Countries\n ['Switzerland', 'Iceland', 'Denmark', 'Norway', 'Canada', 'Finland', 'Netherlands', 'Sweden', 'New Zealand', 'Australia', 'Israel', 'Costa Rica', 'Austria', 'Mexico', 'United States', 'Brazil', 'Luxembourg', 'Ireland', 'Belgium', 'United Arab Emirates', 'United Kingdom', 'Oman', 'Venezuela', 'Singapore', 'Panama', 'Germany', 'Chile', 'Qatar', 'France', 'Argentina', 'Czech Republic', 'Uruguay', 'Colombia', 'Thailand', 'Saudi Arabia', 'Spain', 'Malta', 'Taiwan', 'Kuwait', 'Suriname', 'Trinidad and Tobago', 'El Salvador', 'Guatemala', 'Uzbekistan', 'Slovakia', 'Japan', 'South Korea', 'Ecuador', 'Bahrain', 'Italy', 'Bolivia', 'Moldova', 'Paraguay', 'Kazakhstan', 'Slovenia', 'Lithuania', 'Nicaragua', 'Peru', 'Belarus', 'Poland', 'Malaysia', 'Croatia', 'Libya', 'Russia', 'Jamaica', 'North Cyprus', 'Cyprus', 'Algeria', 'Kosovo', 'Turkmenistan', 'Mauritius', 'Hong Kong', 'Estonia', 'Indonesia', 'Vietnam', 'Turkey', 'Kyrgyzstan', 'Nigeria', 'Bhutan', 'Azerbaijan', 'Pakistan', 'Jordan', 'Montenegro', 'China', 'Zambia', 'Romania', 'Serbia', 'Portugal', 'Latvia', 'Philippines', 'Somaliland region', 'Morocco', 'Macedonia', 'Mozambique', 'Albania', 'Bosnia and Herzegovina', 'Lesotho', 'Dominican Republic', 'Laos', 'Mongolia', 'Swaziland', 'Greece', 'Lebanon', 'Hungary', 'Honduras', 'Tajikistan', 'Tunisia', 'Palestinian Territories', 'Bangladesh', 'Iran', 'Ukraine', 'Iraq', 'South Africa', 'Ghana', 'Zimbabwe', 'Liberia', 'India', 'Sudan', 'Haiti', 'Congo (Kinshasa)', 'Nepal', 'Ethiopia', 'Sierra Leone', 'Mauritania', 'Kenya', 'Djibouti', 'Armenia', 'Botswana', 'Myanmar', 'Georgia', 'Malawi', 'Sri Lanka', 'Cameroon', 'Bulgaria', 'Egypt', 'Yemen', 'Angola', 'Mali', 'Congo (Brazzaville)', 'Comoros', 'Uganda', 'Senegal', 'Gabon', 'Niger', 'Cambodia', 'Tanzania', 'Madagascar', 'Central African Republic', 'Chad', 'Guinea', 'Ivory Coast', 'Burkina Faso', 'Afghanistan', 'Rwanda', 'Benin', 'Syria', 'Burundi', 'Togo']\n"
     ]
    }
   ],
   "source": [
    "df_py = df.collect()\n",
    "reg_country = {}\n",
    "countries = []\n",
    "for i in df_py:\n",
    "  if i[\"Region\"] not in reg_country:\n",
    "    reg_country[i[\"Region\"]] = []\n",
    "  reg_country[i[\"Region\"]].append(i[\"Country\"])\n",
    "  countries.append(i[\"Country\"])\n",
    "\n",
    "\n",
    "for k in reg_country:\n",
    "  print(\"\\t\", k)\n",
    "  print(reg_country[k], \"\\n\")\n",
    "\n",
    "print(\"\\tAll Countries\\n\", countries)\n"
   ]
  },
  {
   "cell_type": "markdown",
   "metadata": {
    "application/vnd.databricks.v1+cell": {
     "cellMetadata": {
      "byteLimit": 2048000,
      "rowLimit": 10000
     },
     "inputWidgets": {},
     "nuid": "fa760fe4-957d-4bd3-b7b8-9c95f9ec1eb7",
     "showTitle": false,
     "tableResultSettingsMap": {},
     "title": ""
    }
   },
   "source": [
    "Now, we import the 2019 happiness dataset."
   ]
  },
  {
   "cell_type": "code",
   "execution_count": 0,
   "metadata": {
    "application/vnd.databricks.v1+cell": {
     "cellMetadata": {
      "byteLimit": 2048000,
      "rowLimit": 10000
     },
     "inputWidgets": {},
     "nuid": "fb11da4e-b4a4-4618-9c74-03cc510a1028",
     "showTitle": false,
     "tableResultSettingsMap": {},
     "title": ""
    }
   },
   "outputs": [],
   "source": [
    "input_path2 = \"/FileStore/tables/2019.csv\"\n",
    "df2 = spark.read.format(\"csv\").option(\"header\", \"true\").load(input_path2)"
   ]
  },
  {
   "cell_type": "markdown",
   "metadata": {
    "application/vnd.databricks.v1+cell": {
     "cellMetadata": {
      "byteLimit": 2048000,
      "rowLimit": 10000
     },
     "inputWidgets": {},
     "nuid": "78ea6ebc-5cce-4a37-b4f5-9a317a95e5a0",
     "showTitle": false,
     "tableResultSettingsMap": {},
     "title": ""
    }
   },
   "source": [
    "These are the 20 happiest countries in 2019."
   ]
  },
  {
   "cell_type": "code",
   "execution_count": 0,
   "metadata": {
    "application/vnd.databricks.v1+cell": {
     "cellMetadata": {
      "byteLimit": 2048000,
      "rowLimit": 10000
     },
     "inputWidgets": {},
     "nuid": "b9a09544-e4fe-47d9-aa71-257bf7286317",
     "showTitle": false,
     "tableResultSettingsMap": {},
     "title": ""
    }
   },
   "outputs": [
    {
     "output_type": "stream",
     "name": "stdout",
     "output_type": "stream",
     "text": [
      "+------------+-----------------+-----+--------------+--------------+-----------------------+----------------------------+----------+-------------------------+\n|Overall rank|Country or region|Score|GDP per capita|Social support|Healthy life expectancy|Freedom to make life choices|Generosity|Perceptions of corruption|\n+------------+-----------------+-----+--------------+--------------+-----------------------+----------------------------+----------+-------------------------+\n|           1|          Finland|7.769|         1.340|         1.587|                  0.986|                       0.596|     0.153|                    0.393|\n|           2|          Denmark|7.600|         1.383|         1.573|                  0.996|                       0.592|     0.252|                    0.410|\n|           3|           Norway|7.554|         1.488|         1.582|                  1.028|                       0.603|     0.271|                    0.341|\n|           4|          Iceland|7.494|         1.380|         1.624|                  1.026|                       0.591|     0.354|                    0.118|\n|           5|      Netherlands|7.488|         1.396|         1.522|                  0.999|                       0.557|     0.322|                    0.298|\n|           6|      Switzerland|7.480|         1.452|         1.526|                  1.052|                       0.572|     0.263|                    0.343|\n|           7|           Sweden|7.343|         1.387|         1.487|                  1.009|                       0.574|     0.267|                    0.373|\n|           8|      New Zealand|7.307|         1.303|         1.557|                  1.026|                       0.585|     0.330|                    0.380|\n|           9|           Canada|7.278|         1.365|         1.505|                  1.039|                       0.584|     0.285|                    0.308|\n|          10|          Austria|7.246|         1.376|         1.475|                  1.016|                       0.532|     0.244|                    0.226|\n|          11|        Australia|7.228|         1.372|         1.548|                  1.036|                       0.557|     0.332|                    0.290|\n|          12|       Costa Rica|7.167|         1.034|         1.441|                  0.963|                       0.558|     0.144|                    0.093|\n|          13|           Israel|7.139|         1.276|         1.455|                  1.029|                       0.371|     0.261|                    0.082|\n|          14|       Luxembourg|7.090|         1.609|         1.479|                  1.012|                       0.526|     0.194|                    0.316|\n|          15|   United Kingdom|7.054|         1.333|         1.538|                  0.996|                       0.450|     0.348|                    0.278|\n|          16|          Ireland|7.021|         1.499|         1.553|                  0.999|                       0.516|     0.298|                    0.310|\n|          17|          Germany|6.985|         1.373|         1.454|                  0.987|                       0.495|     0.261|                    0.265|\n|          18|          Belgium|6.923|         1.356|         1.504|                  0.986|                       0.473|     0.160|                    0.210|\n|          19|    United States|6.892|         1.433|         1.457|                  0.874|                       0.454|     0.280|                    0.128|\n|          20|   Czech Republic|6.852|         1.269|         1.487|                  0.920|                       0.457|     0.046|                    0.036|\n+------------+-----------------+-----+--------------+--------------+-----------------------+----------------------------+----------+-------------------------+\nonly showing top 20 rows\n\n"
     ]
    }
   ],
   "source": [
    "df2.show()"
   ]
  },
  {
   "cell_type": "markdown",
   "metadata": {
    "application/vnd.databricks.v1+cell": {
     "cellMetadata": {
      "byteLimit": 2048000,
      "rowLimit": 10000
     },
     "inputWidgets": {},
     "nuid": "da45941c-7f4a-4865-aada-442be7310e2d",
     "showTitle": false,
     "tableResultSettingsMap": {},
     "title": ""
    }
   },
   "source": [
    "Currently, all the data is stored as strings, which makes numerical calculations difficult. We will convert the columns into appropriate data types to make calculations easier to perform. We will also be removing any rows that have null values, to prevent any unexpected results."
   ]
  },
  {
   "cell_type": "code",
   "execution_count": 0,
   "metadata": {
    "application/vnd.databricks.v1+cell": {
     "cellMetadata": {
      "byteLimit": 2048000,
      "rowLimit": 10000
     },
     "inputWidgets": {},
     "nuid": "635e4c70-b137-44e4-b15d-cc7ef9c4927d",
     "showTitle": false,
     "tableResultSettingsMap": {},
     "title": ""
    }
   },
   "outputs": [],
   "source": [
    "from pyspark.sql.functions import col, to_timestamp\n",
    "\n",
    "col_list = \"Overall rank|Country or region|Score|GDP per capita|Social support|Healthy life expectancy|Freedom to make life choices|Generosity|Perceptions of corruption\".split(\"|\")\n",
    "\n",
    "for i in col_list:\n",
    "  if i == \"Overall rank\":\n",
    "    df2 = df2.withColumn(i, col(i).cast(\"int\"))\n",
    "  elif i == \"Country or region\":\n",
    "    df2 = df2.withColumn(i, col(i).cast(\"string\"))\n",
    "  else:\n",
    "    df2 = df2.withColumn(i, col(i).cast(\"float\"))\n",
    "\n",
    "df_cleaned = df2.na.drop(subset=col_list)"
   ]
  },
  {
   "cell_type": "markdown",
   "metadata": {
    "application/vnd.databricks.v1+cell": {
     "cellMetadata": {
      "byteLimit": 2048000,
      "rowLimit": 10000
     },
     "inputWidgets": {},
     "nuid": "3c32e37c-96e6-44f8-9534-4e283c9e9566",
     "showTitle": false,
     "tableResultSettingsMap": {},
     "title": ""
    }
   },
   "source": [
    "We will make a list containing all the rows of the 2019 happiness dataset. This list will altered and converted back into a csv file.\n",
    "\n",
    "These are the first 20 rows of this list."
   ]
  },
  {
   "cell_type": "code",
   "execution_count": 0,
   "metadata": {
    "application/vnd.databricks.v1+cell": {
     "cellMetadata": {
      "byteLimit": 2048000,
      "rowLimit": 10000
     },
     "inputWidgets": {},
     "nuid": "429b151f-bec2-4b0c-814c-16466e7cf559",
     "showTitle": false,
     "tableResultSettingsMap": {},
     "title": ""
    }
   },
   "outputs": [
    {
     "output_type": "stream",
     "name": "stdout",
     "output_type": "stream",
     "text": [
      "[[1, 'Finland', 7.769000053405762, 1.340000033378601, 1.5870000123977661, 0.9860000014305115, 0.5960000157356262, 0.15299999713897705, 0.3930000066757202], [2, 'Denmark', 7.599999904632568, 1.3830000162124634, 1.5729999542236328, 0.9959999918937683, 0.5920000076293945, 0.25200000405311584, 0.4099999964237213], [3, 'Norway', 7.553999900817871, 1.4880000352859497, 1.5820000171661377, 1.027999997138977, 0.6029999852180481, 0.2709999978542328, 0.3409999907016754], [4, 'Iceland', 7.49399995803833, 1.3799999952316284, 1.6239999532699585, 1.0260000228881836, 0.5910000205039978, 0.3540000021457672, 0.11800000071525574], [5, 'Netherlands', 7.48799991607666, 1.3960000276565552, 1.5219999551773071, 0.9990000128746033, 0.5569999814033508, 0.32199999690055847, 0.2980000078678131], [6, 'Switzerland', 7.480000019073486, 1.4520000219345093, 1.5260000228881836, 1.0520000457763672, 0.5720000267028809, 0.2630000114440918, 0.34299999475479126], [7, 'Sweden', 7.3429999351501465, 1.3869999647140503, 1.4869999885559082, 1.0089999437332153, 0.5740000009536743, 0.2669999897480011, 0.37299999594688416], [8, 'New Zealand', 7.307000160217285, 1.3029999732971191, 1.5570000410079956, 1.0260000228881836, 0.5849999785423279, 0.33000001311302185, 0.3799999952316284], [9, 'Canada', 7.2779998779296875, 1.3650000095367432, 1.5049999952316284, 1.0390000343322754, 0.5839999914169312, 0.2849999964237213, 0.30799999833106995], [10, 'Austria', 7.245999813079834, 1.3760000467300415, 1.475000023841858, 1.0160000324249268, 0.5320000052452087, 0.24400000274181366, 0.22599999606609344], [11, 'Australia', 7.228000164031982, 1.371999979019165, 1.5479999780654907, 1.0360000133514404, 0.5569999814033508, 0.3319999873638153, 0.28999999165534973], [12, 'Costa Rica', 7.166999816894531, 1.034000039100647, 1.440999984741211, 0.9629999995231628, 0.5580000281333923, 0.14399999380111694, 0.09300000220537186], [13, 'Israel', 7.138999938964844, 1.2760000228881836, 1.4550000429153442, 1.0290000438690186, 0.3709999918937683, 0.26100000739097595, 0.0820000022649765], [14, 'Luxembourg', 7.090000152587891, 1.6089999675750732, 1.4789999723434448, 1.0119999647140503, 0.5260000228881836, 0.1940000057220459, 0.3160000145435333], [15, 'United Kingdom', 7.053999900817871, 1.3329999446868896, 1.5379999876022339, 0.9959999918937683, 0.44999998807907104, 0.3479999899864197, 0.27799999713897705], [16, 'Ireland', 7.020999908447266, 1.4989999532699585, 1.5529999732971191, 0.9990000128746033, 0.515999972820282, 0.2980000078678131, 0.3100000023841858], [17, 'Germany', 6.985000133514404, 1.3730000257492065, 1.4539999961853027, 0.9869999885559082, 0.4950000047683716, 0.26100000739097595, 0.26499998569488525], [18, 'Belgium', 6.922999858856201, 1.3559999465942383, 1.503999948501587, 0.9860000014305115, 0.4729999899864197, 0.1599999964237213, 0.20999999344348907], [19, 'United States', 6.892000198364258, 1.4329999685287476, 1.4570000171661377, 0.8740000128746033, 0.45399999618530273, 0.2800000011920929, 0.12800000607967377], [20, 'Czech Republic', 6.8520002365112305, 1.2690000534057617, 1.4869999885559082, 0.9200000166893005, 0.4569999873638153, 0.04600000008940697, 0.035999998450279236]]\n"
     ]
    }
   ],
   "source": [
    "data_list = []\n",
    "\n",
    "df2_py = df_cleaned.collect()\n",
    "for i in df2_py:\n",
    "  data_list.append([])\n",
    "  for c in i:\n",
    "    data_list[-1].append(c)\n",
    "\n",
    "print(data_list[:20])"
   ]
  },
  {
   "cell_type": "markdown",
   "metadata": {
    "application/vnd.databricks.v1+cell": {
     "cellMetadata": {
      "byteLimit": 2048000,
      "rowLimit": 10000
     },
     "inputWidgets": {},
     "nuid": "3cc7d7f6-2108-4c0f-9d88-0e53df477019",
     "showTitle": false,
     "tableResultSettingsMap": {},
     "title": ""
    }
   },
   "source": [
    "We can now convert the country names to regions. These are the countries and their respective region that will be replace the country name."
   ]
  },
  {
   "cell_type": "code",
   "execution_count": 0,
   "metadata": {
    "application/vnd.databricks.v1+cell": {
     "cellMetadata": {
      "byteLimit": 2048000,
      "rowLimit": 10000
     },
     "inputWidgets": {},
     "nuid": "1ac549a8-1864-4253-9fab-ca4d4ba4c480",
     "showTitle": false,
     "tableResultSettingsMap": {},
     "title": ""
    }
   },
   "outputs": [
    {
     "output_type": "stream",
     "name": "stdout",
     "output_type": "stream",
     "text": [
      "[1, 'Finland', 'Western Europe', 7.769000053405762, 1.340000033378601, 1.5870000123977661, 0.9860000014305115, 0.5960000157356262, 0.15299999713897705, 0.3930000066757202]\n[2, 'Denmark', 'Western Europe', 7.599999904632568, 1.3830000162124634, 1.5729999542236328, 0.9959999918937683, 0.5920000076293945, 0.25200000405311584, 0.4099999964237213]\n[3, 'Norway', 'Western Europe', 7.553999900817871, 1.4880000352859497, 1.5820000171661377, 1.027999997138977, 0.6029999852180481, 0.2709999978542328, 0.3409999907016754]\n[4, 'Iceland', 'Western Europe', 7.49399995803833, 1.3799999952316284, 1.6239999532699585, 1.0260000228881836, 0.5910000205039978, 0.3540000021457672, 0.11800000071525574]\n[5, 'Netherlands', 'Western Europe', 7.48799991607666, 1.3960000276565552, 1.5219999551773071, 0.9990000128746033, 0.5569999814033508, 0.32199999690055847, 0.2980000078678131]\n[6, 'Switzerland', 'Western Europe', 7.480000019073486, 1.4520000219345093, 1.5260000228881836, 1.0520000457763672, 0.5720000267028809, 0.2630000114440918, 0.34299999475479126]\n[7, 'Sweden', 'Western Europe', 7.3429999351501465, 1.3869999647140503, 1.4869999885559082, 1.0089999437332153, 0.5740000009536743, 0.2669999897480011, 0.37299999594688416]\n[8, 'New Zealand', 'Australia and New Zealand', 7.307000160217285, 1.3029999732971191, 1.5570000410079956, 1.0260000228881836, 0.5849999785423279, 0.33000001311302185, 0.3799999952316284]\n[9, 'Canada', 'North America', 7.2779998779296875, 1.3650000095367432, 1.5049999952316284, 1.0390000343322754, 0.5839999914169312, 0.2849999964237213, 0.30799999833106995]\n[10, 'Austria', 'Western Europe', 7.245999813079834, 1.3760000467300415, 1.475000023841858, 1.0160000324249268, 0.5320000052452087, 0.24400000274181366, 0.22599999606609344]\n"
     ]
    }
   ],
   "source": [
    "for i in data_list:\n",
    "  for j in reg_country:\n",
    "    if i[1] in reg_country[j]:\n",
    "      i.insert(2, j)\n",
    "\n",
    "ind = 0\n",
    "while ind < 10:\n",
    "  print(data_list[ind])\n",
    "  ind+=1\n"
   ]
  },
  {
   "cell_type": "markdown",
   "metadata": {
    "application/vnd.databricks.v1+cell": {
     "cellMetadata": {
      "byteLimit": 2048000,
      "rowLimit": 10000
     },
     "inputWidgets": {},
     "nuid": "b47ace9a-c783-463a-abeb-d479d7fb5515",
     "showTitle": false,
     "tableResultSettingsMap": {},
     "title": ""
    }
   },
   "source": [
    "The following countries will not be included in our final CSV file."
   ]
  },
  {
   "cell_type": "code",
   "execution_count": 0,
   "metadata": {
    "application/vnd.databricks.v1+cell": {
     "cellMetadata": {
      "byteLimit": 2048000,
      "rowLimit": 10000
     },
     "inputWidgets": {},
     "nuid": "830b7729-427b-401f-81d2-660822e0bbf6",
     "showTitle": false,
     "tableResultSettingsMap": {},
     "title": ""
    }
   },
   "outputs": [
    {
     "output_type": "stream",
     "name": "stdout",
     "output_type": "stream",
     "text": [
      "Trinidad & Tobago\nNorthern Cyprus\nNorth Macedonia\nSomalia\nNamibia\nGambia\nSouth Sudan\n"
     ]
    }
   ],
   "source": [
    "i = 0\n",
    "while i < len(data_list):\n",
    "  if len(data_list[i]) < 10:\n",
    "    print(data_list.pop(i)[1])\n",
    "  else:\n",
    "    i += 1"
   ]
  },
  {
   "cell_type": "markdown",
   "metadata": {
    "application/vnd.databricks.v1+cell": {
     "cellMetadata": {
      "byteLimit": 2048000,
      "rowLimit": 10000
     },
     "inputWidgets": {},
     "nuid": "8e4ee1e4-81eb-464f-a1d9-765d8af2d05c",
     "showTitle": false,
     "tableResultSettingsMap": {},
     "title": ""
    }
   },
   "source": [
    "This is the data"
   ]
  },
  {
   "cell_type": "code",
   "execution_count": 0,
   "metadata": {
    "application/vnd.databricks.v1+cell": {
     "cellMetadata": {
      "byteLimit": 2048000,
      "rowLimit": 10000
     },
     "inputWidgets": {},
     "nuid": "cc9de27b-9137-4bff-85f6-fea79fd1c7c1",
     "showTitle": false,
     "tableResultSettingsMap": {},
     "title": ""
    }
   },
   "outputs": [
    {
     "output_type": "stream",
     "name": "stdout",
     "output_type": "stream",
     "text": [
      "149\n"
     ]
    }
   ],
   "source": [
    "while i < len(data_list):\n",
    "  print(data_list[i])\n",
    "print(len(data_list))"
   ]
  },
  {
   "cell_type": "markdown",
   "metadata": {
    "application/vnd.databricks.v1+cell": {
     "cellMetadata": {
      "byteLimit": 2048000,
      "rowLimit": 10000
     },
     "inputWidgets": {},
     "nuid": "f99f04f4-d6e9-4c7a-9b3a-26ff5d989017",
     "showTitle": false,
     "tableResultSettingsMap": {},
     "title": ""
    }
   },
   "source": [
    "Keep in mind that ranks such as 39, 64, and 84 no longer exist, as we have removed those countries from our dataset."
   ]
  },
  {
   "cell_type": "markdown",
   "metadata": {
    "application/vnd.databricks.v1+cell": {
     "cellMetadata": {
      "byteLimit": 2048000,
      "rowLimit": 10000
     },
     "inputWidgets": {},
     "nuid": "fead9500-b92f-43ea-8ae7-7ccb52ba72d9",
     "showTitle": false,
     "tableResultSettingsMap": {},
     "title": ""
    }
   },
   "source": [
    "Now, we can convert these lists into a dataframe and export this as a CSV file. We will use this file in R to perform our data analysis."
   ]
  },
  {
   "cell_type": "code",
   "execution_count": 0,
   "metadata": {
    "application/vnd.databricks.v1+cell": {
     "cellMetadata": {
      "byteLimit": 2048000,
      "rowLimit": 10000
     },
     "inputWidgets": {},
     "nuid": "c42001a7-1485-4adb-8f95-33d5efc8e863",
     "showTitle": false,
     "tableResultSettingsMap": {},
     "title": ""
    }
   },
   "outputs": [
    {
     "output_type": "display_data",
     "data": {
      "text/html": [
       "<style scoped>\n",
       "  .table-result-container {\n",
       "    max-height: 300px;\n",
       "    overflow: auto;\n",
       "  }\n",
       "  table, th, td {\n",
       "    border: 1px solid black;\n",
       "    border-collapse: collapse;\n",
       "  }\n",
       "  th, td {\n",
       "    padding: 5px;\n",
       "  }\n",
       "  th {\n",
       "    text-align: left;\n",
       "  }\n",
       "</style><div class='table-result-container'><table class='table-result'><thead style='background-color: white'><tr><th>rank</th><th>country</th><th>region</th><th>score</th><th>gdp</th><th>support</th><th>life_expectancy</th><th>freedom</th><th>generosity</th><th>corruption</th></tr></thead><tbody><tr><td>1</td><td>Finland</td><td>Western Europe</td><td>7.769000053405762</td><td>1.340000033378601</td><td>1.5870000123977661</td><td>0.9860000014305115</td><td>0.5960000157356262</td><td>0.15299999713897705</td><td>0.3930000066757202</td></tr><tr><td>2</td><td>Denmark</td><td>Western Europe</td><td>7.599999904632568</td><td>1.3830000162124634</td><td>1.5729999542236328</td><td>0.9959999918937683</td><td>0.5920000076293945</td><td>0.25200000405311584</td><td>0.4099999964237213</td></tr><tr><td>3</td><td>Norway</td><td>Western Europe</td><td>7.553999900817871</td><td>1.4880000352859497</td><td>1.5820000171661377</td><td>1.027999997138977</td><td>0.6029999852180481</td><td>0.2709999978542328</td><td>0.3409999907016754</td></tr><tr><td>4</td><td>Iceland</td><td>Western Europe</td><td>7.49399995803833</td><td>1.3799999952316284</td><td>1.6239999532699585</td><td>1.0260000228881836</td><td>0.5910000205039978</td><td>0.3540000021457672</td><td>0.11800000071525574</td></tr><tr><td>5</td><td>Netherlands</td><td>Western Europe</td><td>7.48799991607666</td><td>1.3960000276565552</td><td>1.5219999551773071</td><td>0.9990000128746033</td><td>0.5569999814033508</td><td>0.32199999690055847</td><td>0.2980000078678131</td></tr><tr><td>6</td><td>Switzerland</td><td>Western Europe</td><td>7.480000019073486</td><td>1.4520000219345093</td><td>1.5260000228881836</td><td>1.0520000457763672</td><td>0.5720000267028809</td><td>0.2630000114440918</td><td>0.34299999475479126</td></tr><tr><td>7</td><td>Sweden</td><td>Western Europe</td><td>7.3429999351501465</td><td>1.3869999647140503</td><td>1.4869999885559082</td><td>1.0089999437332153</td><td>0.5740000009536743</td><td>0.2669999897480011</td><td>0.37299999594688416</td></tr><tr><td>8</td><td>New Zealand</td><td>Australia and New Zealand</td><td>7.307000160217285</td><td>1.3029999732971191</td><td>1.5570000410079956</td><td>1.0260000228881836</td><td>0.5849999785423279</td><td>0.33000001311302185</td><td>0.3799999952316284</td></tr><tr><td>9</td><td>Canada</td><td>North America</td><td>7.2779998779296875</td><td>1.3650000095367432</td><td>1.5049999952316284</td><td>1.0390000343322754</td><td>0.5839999914169312</td><td>0.2849999964237213</td><td>0.30799999833106995</td></tr><tr><td>10</td><td>Austria</td><td>Western Europe</td><td>7.245999813079834</td><td>1.3760000467300415</td><td>1.475000023841858</td><td>1.0160000324249268</td><td>0.5320000052452087</td><td>0.24400000274181366</td><td>0.22599999606609344</td></tr><tr><td>11</td><td>Australia</td><td>Australia and New Zealand</td><td>7.228000164031982</td><td>1.371999979019165</td><td>1.5479999780654907</td><td>1.0360000133514404</td><td>0.5569999814033508</td><td>0.3319999873638153</td><td>0.28999999165534973</td></tr><tr><td>12</td><td>Costa Rica</td><td>Latin America and Caribbean</td><td>7.166999816894531</td><td>1.034000039100647</td><td>1.440999984741211</td><td>0.9629999995231628</td><td>0.5580000281333923</td><td>0.14399999380111694</td><td>0.09300000220537186</td></tr><tr><td>13</td><td>Israel</td><td>Middle East and Northern Africa</td><td>7.138999938964844</td><td>1.2760000228881836</td><td>1.4550000429153442</td><td>1.0290000438690186</td><td>0.3709999918937683</td><td>0.26100000739097595</td><td>0.0820000022649765</td></tr><tr><td>14</td><td>Luxembourg</td><td>Western Europe</td><td>7.090000152587891</td><td>1.6089999675750732</td><td>1.4789999723434448</td><td>1.0119999647140503</td><td>0.5260000228881836</td><td>0.1940000057220459</td><td>0.3160000145435333</td></tr><tr><td>15</td><td>United Kingdom</td><td>Western Europe</td><td>7.053999900817871</td><td>1.3329999446868896</td><td>1.5379999876022339</td><td>0.9959999918937683</td><td>0.44999998807907104</td><td>0.3479999899864197</td><td>0.27799999713897705</td></tr><tr><td>16</td><td>Ireland</td><td>Western Europe</td><td>7.020999908447266</td><td>1.4989999532699585</td><td>1.5529999732971191</td><td>0.9990000128746033</td><td>0.515999972820282</td><td>0.2980000078678131</td><td>0.3100000023841858</td></tr><tr><td>17</td><td>Germany</td><td>Western Europe</td><td>6.985000133514404</td><td>1.3730000257492065</td><td>1.4539999961853027</td><td>0.9869999885559082</td><td>0.4950000047683716</td><td>0.26100000739097595</td><td>0.26499998569488525</td></tr><tr><td>18</td><td>Belgium</td><td>Western Europe</td><td>6.922999858856201</td><td>1.3559999465942383</td><td>1.503999948501587</td><td>0.9860000014305115</td><td>0.4729999899864197</td><td>0.1599999964237213</td><td>0.20999999344348907</td></tr><tr><td>19</td><td>United States</td><td>North America</td><td>6.892000198364258</td><td>1.4329999685287476</td><td>1.4570000171661377</td><td>0.8740000128746033</td><td>0.45399999618530273</td><td>0.2800000011920929</td><td>0.12800000607967377</td></tr><tr><td>20</td><td>Czech Republic</td><td>Central and Eastern Europe</td><td>6.8520002365112305</td><td>1.2690000534057617</td><td>1.4869999885559082</td><td>0.9200000166893005</td><td>0.4569999873638153</td><td>0.04600000008940697</td><td>0.035999998450279236</td></tr><tr><td>21</td><td>United Arab Emirates</td><td>Middle East and Northern Africa</td><td>6.824999809265137</td><td>1.503000020980835</td><td>1.309999942779541</td><td>0.824999988079071</td><td>0.5979999899864197</td><td>0.2619999945163727</td><td>0.18199999630451202</td></tr><tr><td>22</td><td>Malta</td><td>Western Europe</td><td>6.72599983215332</td><td>1.2999999523162842</td><td>1.5199999809265137</td><td>0.9990000128746033</td><td>0.5640000104904175</td><td>0.375</td><td>0.1509999930858612</td></tr><tr><td>23</td><td>Mexico</td><td>Latin America and Caribbean</td><td>6.59499979019165</td><td>1.0700000524520874</td><td>1.3229999542236328</td><td>0.8610000014305115</td><td>0.43299999833106995</td><td>0.07400000095367432</td><td>0.0729999989271164</td></tr><tr><td>24</td><td>France</td><td>Western Europe</td><td>6.5920000076293945</td><td>1.3240000009536743</td><td>1.472000002861023</td><td>1.0449999570846558</td><td>0.4359999895095825</td><td>0.11100000143051147</td><td>0.18299999833106995</td></tr><tr><td>25</td><td>Taiwan</td><td>Eastern Asia</td><td>6.446000099182129</td><td>1.3680000305175781</td><td>1.4299999475479126</td><td>0.9139999747276306</td><td>0.35100001096725464</td><td>0.24199999868869781</td><td>0.09700000286102295</td></tr><tr><td>26</td><td>Chile</td><td>Latin America and Caribbean</td><td>6.443999767303467</td><td>1.159000039100647</td><td>1.36899995803833</td><td>0.9200000166893005</td><td>0.3569999933242798</td><td>0.18700000643730164</td><td>0.0560000017285347</td></tr><tr><td>27</td><td>Guatemala</td><td>Latin America and Caribbean</td><td>6.435999870300293</td><td>0.800000011920929</td><td>1.2690000534057617</td><td>0.7459999918937683</td><td>0.5350000262260437</td><td>0.17499999701976776</td><td>0.07800000160932541</td></tr><tr><td>28</td><td>Saudi Arabia</td><td>Middle East and Northern Africa</td><td>6.375</td><td>1.402999997138977</td><td>1.3569999933242798</td><td>0.7950000166893005</td><td>0.4390000104904175</td><td>0.07999999821186066</td><td>0.13199999928474426</td></tr><tr><td>29</td><td>Qatar</td><td>Middle East and Northern Africa</td><td>6.374000072479248</td><td>1.684000015258789</td><td>1.312999963760376</td><td>0.8709999918937683</td><td>0.5550000071525574</td><td>0.2199999988079071</td><td>0.16699999570846558</td></tr><tr><td>30</td><td>Spain</td><td>Western Europe</td><td>6.354000091552734</td><td>1.2860000133514404</td><td>1.4839999675750732</td><td>1.062000036239624</td><td>0.3619999885559082</td><td>0.15299999713897705</td><td>0.07900000363588333</td></tr><tr><td>31</td><td>Panama</td><td>Latin America and Caribbean</td><td>6.321000099182129</td><td>1.1490000486373901</td><td>1.4420000314712524</td><td>0.9100000262260437</td><td>0.515999972820282</td><td>0.10899999737739563</td><td>0.05400000140070915</td></tr><tr><td>32</td><td>Brazil</td><td>Latin America and Caribbean</td><td>6.300000190734863</td><td>1.003999948501587</td><td>1.4390000104904175</td><td>0.8019999861717224</td><td>0.38999998569488525</td><td>0.0989999994635582</td><td>0.0860000029206276</td></tr><tr><td>33</td><td>Uruguay</td><td>Latin America and Caribbean</td><td>6.293000221252441</td><td>1.1239999532699585</td><td>1.465000033378601</td><td>0.890999972820282</td><td>0.5230000019073486</td><td>0.12700000405311584</td><td>0.15000000596046448</td></tr><tr><td>34</td><td>Singapore</td><td>Southeastern Asia</td><td>6.26200008392334</td><td>1.5720000267028809</td><td>1.4630000591278076</td><td>1.1410000324249268</td><td>0.5559999942779541</td><td>0.2709999978542328</td><td>0.453000009059906</td></tr><tr><td>35</td><td>El Salvador</td><td>Latin America and Caribbean</td><td>6.252999782562256</td><td>0.7940000295639038</td><td>1.2419999837875366</td><td>0.7889999747276306</td><td>0.4300000071525574</td><td>0.09300000220537186</td><td>0.07400000095367432</td></tr><tr><td>36</td><td>Italy</td><td>Western Europe</td><td>6.2230000495910645</td><td>1.2940000295639038</td><td>1.4880000352859497</td><td>1.0390000343322754</td><td>0.23100000619888306</td><td>0.15800000727176666</td><td>0.029999999329447746</td></tr><tr><td>37</td><td>Bahrain</td><td>Middle East and Northern Africa</td><td>6.198999881744385</td><td>1.3619999885559082</td><td>1.3680000305175781</td><td>0.8709999918937683</td><td>0.5360000133514404</td><td>0.2549999952316284</td><td>0.10999999940395355</td></tr><tr><td>38</td><td>Slovakia</td><td>Central and Eastern Europe</td><td>6.197999954223633</td><td>1.246000051498413</td><td>1.503999948501587</td><td>0.8809999823570251</td><td>0.33399999141693115</td><td>0.12099999934434891</td><td>0.014000000432133675</td></tr><tr><td>40</td><td>Poland</td><td>Central and Eastern Europe</td><td>6.182000160217285</td><td>1.2059999704360962</td><td>1.437999963760376</td><td>0.8840000033378601</td><td>0.4830000102519989</td><td>0.11699999868869781</td><td>0.05000000074505806</td></tr><tr><td>41</td><td>Uzbekistan</td><td>Central and Eastern Europe</td><td>6.173999786376953</td><td>0.7450000047683716</td><td>1.5290000438690186</td><td>0.7559999823570251</td><td>0.6309999823570251</td><td>0.32199999690055847</td><td>0.23999999463558197</td></tr><tr><td>42</td><td>Lithuania</td><td>Central and Eastern Europe</td><td>6.14900016784668</td><td>1.2380000352859497</td><td>1.5149999856948853</td><td>0.8180000185966492</td><td>0.29100000858306885</td><td>0.0430000014603138</td><td>0.041999999433755875</td></tr><tr><td>43</td><td>Colombia</td><td>Latin America and Caribbean</td><td>6.125</td><td>0.9850000143051147</td><td>1.409999966621399</td><td>0.8410000205039978</td><td>0.4699999988079071</td><td>0.0989999994635582</td><td>0.03400000184774399</td></tr><tr><td>44</td><td>Slovenia</td><td>Central and Eastern Europe</td><td>6.118000030517578</td><td>1.2580000162124634</td><td>1.5230000019073486</td><td>0.953000009059906</td><td>0.5640000104904175</td><td>0.14399999380111694</td><td>0.05700000002980232</td></tr><tr><td>45</td><td>Nicaragua</td><td>Latin America and Caribbean</td><td>6.105000019073486</td><td>0.6940000057220459</td><td>1.3250000476837158</td><td>0.8349999785423279</td><td>0.4350000023841858</td><td>0.20000000298023224</td><td>0.12700000405311584</td></tr><tr><td>46</td><td>Kosovo</td><td>Central and Eastern Europe</td><td>6.099999904632568</td><td>0.8820000290870667</td><td>1.2319999933242798</td><td>0.7580000162124634</td><td>0.48899999260902405</td><td>0.2619999945163727</td><td>0.006000000052154064</td></tr><tr><td>47</td><td>Argentina</td><td>Latin America and Caribbean</td><td>6.085999965667725</td><td>1.0920000076293945</td><td>1.4320000410079956</td><td>0.8809999823570251</td><td>0.47099998593330383</td><td>0.06599999964237213</td><td>0.05000000074505806</td></tr><tr><td>48</td><td>Romania</td><td>Central and Eastern Europe</td><td>6.070000171661377</td><td>1.1619999408721924</td><td>1.2319999933242798</td><td>0.824999988079071</td><td>0.4620000123977661</td><td>0.08299999684095383</td><td>0.004999999888241291</td></tr><tr><td>49</td><td>Cyprus</td><td>Western Europe</td><td>6.046000003814697</td><td>1.2630000114440918</td><td>1.2230000495910645</td><td>1.0420000553131104</td><td>0.4059999883174896</td><td>0.1899999976158142</td><td>0.04100000113248825</td></tr><tr><td>50</td><td>Ecuador</td><td>Latin America and Caribbean</td><td>6.0279998779296875</td><td>0.9120000004768372</td><td>1.312000036239624</td><td>0.8679999709129333</td><td>0.49799999594688416</td><td>0.12600000202655792</td><td>0.08699999749660492</td></tr><tr><td>51</td><td>Kuwait</td><td>Middle East and Northern Africa</td><td>6.020999908447266</td><td>1.5</td><td>1.319000005722046</td><td>0.8080000281333923</td><td>0.49300000071525574</td><td>0.1420000046491623</td><td>0.09700000286102295</td></tr><tr><td>52</td><td>Thailand</td><td>Southeastern Asia</td><td>6.007999897003174</td><td>1.0499999523162842</td><td>1.409000039100647</td><td>0.828000009059906</td><td>0.5569999814033508</td><td>0.35899999737739563</td><td>0.02800000086426735</td></tr><tr><td>53</td><td>Latvia</td><td>Central and Eastern Europe</td><td>5.940000057220459</td><td>1.187000036239624</td><td>1.465000033378601</td><td>0.8119999766349792</td><td>0.2639999985694885</td><td>0.07500000298023224</td><td>0.06400000303983688</td></tr><tr><td>54</td><td>South Korea</td><td>Eastern Asia</td><td>5.894999980926514</td><td>1.3009999990463257</td><td>1.218999981880188</td><td>1.0360000133514404</td><td>0.1589999943971634</td><td>0.17499999701976776</td><td>0.0560000017285347</td></tr><tr><td>55</td><td>Estonia</td><td>Central and Eastern Europe</td><td>5.89300012588501</td><td>1.2369999885559082</td><td>1.527999997138977</td><td>0.8740000128746033</td><td>0.4950000047683716</td><td>0.10300000011920929</td><td>0.16099999845027924</td></tr><tr><td>56</td><td>Jamaica</td><td>Latin America and Caribbean</td><td>5.889999866485596</td><td>0.8309999704360962</td><td>1.4780000448226929</td><td>0.8309999704360962</td><td>0.49000000953674316</td><td>0.10700000077486038</td><td>0.02800000086426735</td></tr><tr><td>57</td><td>Mauritius</td><td>Sub-Saharan Africa</td><td>5.888000011444092</td><td>1.1200000047683716</td><td>1.4019999504089355</td><td>0.7979999780654907</td><td>0.49799999594688416</td><td>0.2150000035762787</td><td>0.05999999865889549</td></tr><tr><td>58</td><td>Japan</td><td>Eastern Asia</td><td>5.886000156402588</td><td>1.3270000219345093</td><td>1.4190000295639038</td><td>1.0880000591278076</td><td>0.4449999928474426</td><td>0.0689999982714653</td><td>0.14000000059604645</td></tr><tr><td>59</td><td>Honduras</td><td>Latin America and Caribbean</td><td>5.860000133514404</td><td>0.6420000195503235</td><td>1.2359999418258667</td><td>0.828000009059906</td><td>0.5070000290870667</td><td>0.2460000067949295</td><td>0.07800000160932541</td></tr><tr><td>60</td><td>Kazakhstan</td><td>Central and Eastern Europe</td><td>5.809000015258789</td><td>1.1729999780654907</td><td>1.5080000162124634</td><td>0.7289999723434448</td><td>0.4099999964237213</td><td>0.1459999978542328</td><td>0.09600000083446503</td></tr><tr><td>61</td><td>Bolivia</td><td>Latin America and Caribbean</td><td>5.7789998054504395</td><td>0.7760000228881836</td><td>1.2089999914169312</td><td>0.7059999704360962</td><td>0.5109999775886536</td><td>0.13699999451637268</td><td>0.06400000303983688</td></tr><tr><td>62</td><td>Hungary</td><td>Central and Eastern Europe</td><td>5.757999897003174</td><td>1.2009999752044678</td><td>1.409999966621399</td><td>0.828000009059906</td><td>0.19900000095367432</td><td>0.08100000023841858</td><td>0.019999999552965164</td></tr><tr><td>63</td><td>Paraguay</td><td>Latin America and Caribbean</td><td>5.743000030517578</td><td>0.8550000190734863</td><td>1.475000023841858</td><td>0.7770000100135803</td><td>0.5139999985694885</td><td>0.18400000035762787</td><td>0.07999999821186066</td></tr><tr><td>65</td><td>Peru</td><td>Latin America and Caribbean</td><td>5.697000026702881</td><td>0.9599999785423279</td><td>1.2740000486373901</td><td>0.8539999723434448</td><td>0.45500001311302185</td><td>0.08299999684095383</td><td>0.027000000700354576</td></tr><tr><td>66</td><td>Portugal</td><td>Western Europe</td><td>5.692999839782715</td><td>1.2209999561309814</td><td>1.430999994277954</td><td>0.9990000128746033</td><td>0.5080000162124634</td><td>0.04699999839067459</td><td>0.02500000037252903</td></tr><tr><td>67</td><td>Pakistan</td><td>Southern Asia</td><td>5.6529998779296875</td><td>0.6769999861717224</td><td>0.8859999775886536</td><td>0.5350000262260437</td><td>0.31299999356269836</td><td>0.2199999988079071</td><td>0.09799999743700027</td></tr><tr><td>68</td><td>Russia</td><td>Central and Eastern Europe</td><td>5.6479997634887695</td><td>1.1829999685287476</td><td>1.4520000219345093</td><td>0.7260000109672546</td><td>0.33399999141693115</td><td>0.0820000022649765</td><td>0.03099999949336052</td></tr><tr><td>69</td><td>Philippines</td><td>Southeastern Asia</td><td>5.63100004196167</td><td>0.8069999814033508</td><td>1.2929999828338623</td><td>0.6570000052452087</td><td>0.5580000281333923</td><td>0.11699999868869781</td><td>0.10700000077486038</td></tr><tr><td>70</td><td>Serbia</td><td>Central and Eastern Europe</td><td>5.603000164031982</td><td>1.003999948501587</td><td>1.3830000162124634</td><td>0.8539999723434448</td><td>0.28200000524520874</td><td>0.13699999451637268</td><td>0.039000000804662704</td></tr><tr><td>71</td><td>Moldova</td><td>Central and Eastern Europe</td><td>5.5289998054504395</td><td>0.6850000023841858</td><td>1.3279999494552612</td><td>0.7390000224113464</td><td>0.24500000476837158</td><td>0.1809999942779541</td><td>0.0</td></tr><tr><td>72</td><td>Libya</td><td>Middle East and Northern Africa</td><td>5.525000095367432</td><td>1.0440000295639038</td><td>1.3029999732971191</td><td>0.6729999780654907</td><td>0.41600000858306885</td><td>0.13300000131130219</td><td>0.15199999511241913</td></tr><tr><td>73</td><td>Montenegro</td><td>Central and Eastern Europe</td><td>5.5229997634887695</td><td>1.0509999990463257</td><td>1.3609999418258667</td><td>0.8709999918937683</td><td>0.19699999690055847</td><td>0.1420000046491623</td><td>0.07999999821186066</td></tr><tr><td>74</td><td>Tajikistan</td><td>Central and Eastern Europe</td><td>5.4670000076293945</td><td>0.49300000071525574</td><td>1.0980000495910645</td><td>0.7179999947547913</td><td>0.3889999985694885</td><td>0.23000000417232513</td><td>0.14399999380111694</td></tr><tr><td>75</td><td>Croatia</td><td>Central and Eastern Europe</td><td>5.432000160217285</td><td>1.1549999713897705</td><td>1.2660000324249268</td><td>0.9139999747276306</td><td>0.29600000381469727</td><td>0.11900000274181366</td><td>0.02199999988079071</td></tr><tr><td>76</td><td>Hong Kong</td><td>Eastern Asia</td><td>5.429999828338623</td><td>1.437999963760376</td><td>1.2769999504089355</td><td>1.121999979019165</td><td>0.4399999976158142</td><td>0.257999986410141</td><td>0.28700000047683716</td></tr><tr><td>77</td><td>Dominican Republic</td><td>Latin America and Caribbean</td><td>5.425000190734863</td><td>1.0149999856948853</td><td>1.4010000228881836</td><td>0.7789999842643738</td><td>0.4970000088214874</td><td>0.11299999803304672</td><td>0.10100000351667404</td></tr><tr><td>78</td><td>Bosnia and Herzegovina</td><td>Central and Eastern Europe</td><td>5.386000156402588</td><td>0.9449999928474426</td><td>1.2120000123977661</td><td>0.8450000286102295</td><td>0.21199999749660492</td><td>0.2630000114440918</td><td>0.006000000052154064</td></tr><tr><td>79</td><td>Turkey</td><td>Middle East and Northern Africa</td><td>5.373000144958496</td><td>1.1829999685287476</td><td>1.3600000143051147</td><td>0.8080000281333923</td><td>0.19499999284744263</td><td>0.08299999684095383</td><td>0.10599999874830246</td></tr><tr><td>80</td><td>Malaysia</td><td>Southeastern Asia</td><td>5.339000225067139</td><td>1.2209999561309814</td><td>1.1710000038146973</td><td>0.828000009059906</td><td>0.5080000162124634</td><td>0.25999999046325684</td><td>0.024000000208616257</td></tr><tr><td>81</td><td>Belarus</td><td>Central and Eastern Europe</td><td>5.322999954223633</td><td>1.0670000314712524</td><td>1.465000033378601</td><td>0.7889999747276306</td><td>0.23499999940395355</td><td>0.09399999678134918</td><td>0.1420000046491623</td></tr><tr><td>82</td><td>Greece</td><td>Western Europe</td><td>5.2870001792907715</td><td>1.180999994277954</td><td>1.156000018119812</td><td>0.9990000128746033</td><td>0.06700000166893005</td><td>0.0</td><td>0.03400000184774399</td></tr><tr><td>83</td><td>Mongolia</td><td>Eastern Asia</td><td>5.284999847412109</td><td>0.9480000138282776</td><td>1.531000018119812</td><td>0.6669999957084656</td><td>0.31700000166893005</td><td>0.23499999940395355</td><td>0.03799999877810478</td></tr><tr><td>85</td><td>Nigeria</td><td>Sub-Saharan Africa</td><td>5.264999866485596</td><td>0.6959999799728394</td><td>1.1109999418258667</td><td>0.24500000476837158</td><td>0.4259999990463257</td><td>0.2150000035762787</td><td>0.04100000113248825</td></tr><tr><td>86</td><td>Kyrgyzstan</td><td>Central and Eastern Europe</td><td>5.261000156402588</td><td>0.5509999990463257</td><td>1.437999963760376</td><td>0.7229999899864197</td><td>0.5080000162124634</td><td>0.30000001192092896</td><td>0.023000000044703484</td></tr><tr><td>87</td><td>Turkmenistan</td><td>Central and Eastern Europe</td><td>5.247000217437744</td><td>1.0520000457763672</td><td>1.5379999876022339</td><td>0.6570000052452087</td><td>0.39399999380111694</td><td>0.24400000274181366</td><td>0.02800000086426735</td></tr><tr><td>88</td><td>Algeria</td><td>Middle East and Northern Africa</td><td>5.210999965667725</td><td>1.0019999742507935</td><td>1.159999966621399</td><td>0.7850000262260437</td><td>0.0860000029206276</td><td>0.0729999989271164</td><td>0.11400000005960464</td></tr><tr><td>89</td><td>Morocco</td><td>Middle East and Northern Africa</td><td>5.208000183105469</td><td>0.8009999990463257</td><td>0.7820000052452087</td><td>0.7820000052452087</td><td>0.4180000126361847</td><td>0.035999998450279236</td><td>0.07599999755620956</td></tr><tr><td>90</td><td>Azerbaijan</td><td>Central and Eastern Europe</td><td>5.208000183105469</td><td>1.0429999828338623</td><td>1.1469999551773071</td><td>0.7689999938011169</td><td>0.35100001096725464</td><td>0.03500000014901161</td><td>0.18199999630451202</td></tr><tr><td>91</td><td>Lebanon</td><td>Middle East and Northern Africa</td><td>5.197000026702881</td><td>0.9869999885559082</td><td>1.2239999771118164</td><td>0.8149999976158142</td><td>0.2160000056028366</td><td>0.16599999368190765</td><td>0.027000000700354576</td></tr><tr><td>92</td><td>Indonesia</td><td>Southeastern Asia</td><td>5.191999912261963</td><td>0.9309999942779541</td><td>1.2029999494552612</td><td>0.6600000262260437</td><td>0.4909999966621399</td><td>0.49799999594688416</td><td>0.02800000086426735</td></tr><tr><td>93</td><td>China</td><td>Eastern Asia</td><td>5.190999984741211</td><td>1.0290000438690186</td><td>1.125</td><td>0.8930000066757202</td><td>0.5210000276565552</td><td>0.057999998331069946</td><td>0.10000000149011612</td></tr><tr><td>94</td><td>Vietnam</td><td>Southeastern Asia</td><td>5.175000190734863</td><td>0.7409999966621399</td><td>1.3459999561309814</td><td>0.8510000109672546</td><td>0.5429999828338623</td><td>0.1469999998807907</td><td>0.0729999989271164</td></tr><tr><td>95</td><td>Bhutan</td><td>Southern Asia</td><td>5.081999778747559</td><td>0.8130000233650208</td><td>1.3209999799728394</td><td>0.6039999723434448</td><td>0.4569999873638153</td><td>0.3700000047683716</td><td>0.16699999570846558</td></tr><tr><td>96</td><td>Cameroon</td><td>Sub-Saharan Africa</td><td>5.044000148773193</td><td>0.5490000247955322</td><td>0.9100000262260437</td><td>0.3310000002384186</td><td>0.38100001215934753</td><td>0.18700000643730164</td><td>0.03700000047683716</td></tr><tr><td>97</td><td>Bulgaria</td><td>Central and Eastern Europe</td><td>5.011000156402588</td><td>1.0920000076293945</td><td>1.5130000114440918</td><td>0.8149999976158142</td><td>0.3109999895095825</td><td>0.08100000023841858</td><td>0.004000000189989805</td></tr><tr><td>98</td><td>Ghana</td><td>Sub-Saharan Africa</td><td>4.995999813079834</td><td>0.6110000014305115</td><td>0.8679999709129333</td><td>0.4860000014305115</td><td>0.38100001215934753</td><td>0.24500000476837158</td><td>0.03999999910593033</td></tr><tr><td>99</td><td>Ivory Coast</td><td>Sub-Saharan Africa</td><td>4.943999767303467</td><td>0.5690000057220459</td><td>0.8080000281333923</td><td>0.23199999332427979</td><td>0.35199999809265137</td><td>0.15399999916553497</td><td>0.09000000357627869</td></tr><tr><td>100</td><td>Nepal</td><td>Southern Asia</td><td>4.913000106811523</td><td>0.44600000977516174</td><td>1.2259999513626099</td><td>0.6769999861717224</td><td>0.4390000104904175</td><td>0.2849999964237213</td><td>0.08900000154972076</td></tr><tr><td>101</td><td>Jordan</td><td>Middle East and Northern Africa</td><td>4.906000137329102</td><td>0.8370000123977661</td><td>1.225000023841858</td><td>0.8149999976158142</td><td>0.382999986410141</td><td>0.10999999940395355</td><td>0.12999999523162842</td></tr><tr><td>102</td><td>Benin</td><td>Sub-Saharan Africa</td><td>4.882999897003174</td><td>0.3930000066757202</td><td>0.43700000643730164</td><td>0.3970000147819519</td><td>0.3490000069141388</td><td>0.17499999701976776</td><td>0.0820000022649765</td></tr><tr><td>103</td><td>Congo (Brazzaville)</td><td>Sub-Saharan Africa</td><td>4.811999797821045</td><td>0.6729999780654907</td><td>0.7990000247955322</td><td>0.5080000162124634</td><td>0.3720000088214874</td><td>0.10499999672174454</td><td>0.09300000220537186</td></tr><tr><td>104</td><td>Gabon</td><td>Sub-Saharan Africa</td><td>4.798999786376953</td><td>1.0570000410079956</td><td>1.1829999685287476</td><td>0.5709999799728394</td><td>0.29499998688697815</td><td>0.0430000014603138</td><td>0.054999999701976776</td></tr><tr><td>105</td><td>Laos</td><td>Southeastern Asia</td><td>4.796000003814697</td><td>0.7639999985694885</td><td>1.0299999713897705</td><td>0.5509999990463257</td><td>0.546999990940094</td><td>0.26600000262260437</td><td>0.164000004529953</td></tr><tr><td>106</td><td>South Africa</td><td>Sub-Saharan Africa</td><td>4.7220001220703125</td><td>0.9599999785423279</td><td>1.3509999513626099</td><td>0.4690000116825104</td><td>0.3889999985694885</td><td>0.12999999523162842</td><td>0.054999999701976776</td></tr><tr><td>107</td><td>Albania</td><td>Central and Eastern Europe</td><td>4.718999862670898</td><td>0.9470000267028809</td><td>0.8479999899864197</td><td>0.8740000128746033</td><td>0.382999986410141</td><td>0.17800000309944153</td><td>0.027000000700354576</td></tr><tr><td>108</td><td>Venezuela</td><td>Latin America and Caribbean</td><td>4.706999778747559</td><td>0.9599999785423279</td><td>1.4270000457763672</td><td>0.8050000071525574</td><td>0.15399999916553497</td><td>0.06400000303983688</td><td>0.04699999839067459</td></tr><tr><td>109</td><td>Cambodia</td><td>Southeastern Asia</td><td>4.699999809265137</td><td>0.5740000009536743</td><td>1.121999979019165</td><td>0.6370000243186951</td><td>0.609000027179718</td><td>0.23199999332427979</td><td>0.06199999898672104</td></tr><tr><td>110</td><td>Palestinian Territories</td><td>Middle East and Northern Africa</td><td>4.696000099182129</td><td>0.6570000052452087</td><td>1.246999979019165</td><td>0.671999990940094</td><td>0.22499999403953552</td><td>0.10300000011920929</td><td>0.06599999964237213</td></tr><tr><td>111</td><td>Senegal</td><td>Sub-Saharan Africa</td><td>4.681000232696533</td><td>0.44999998807907104</td><td>1.1339999437332153</td><td>0.5709999799728394</td><td>0.2919999957084656</td><td>0.15299999713897705</td><td>0.07199999690055847</td></tr><tr><td>114</td><td>Niger</td><td>Sub-Saharan Africa</td><td>4.627999782562256</td><td>0.1379999965429306</td><td>0.7739999890327454</td><td>0.3659999966621399</td><td>0.3179999887943268</td><td>0.18799999356269836</td><td>0.10199999809265137</td></tr><tr><td>115</td><td>Burkina Faso</td><td>Sub-Saharan Africa</td><td>4.586999893188477</td><td>0.3310000002384186</td><td>1.055999994277954</td><td>0.3799999952316284</td><td>0.2549999952316284</td><td>0.1770000010728836</td><td>0.11299999803304672</td></tr><tr><td>116</td><td>Armenia</td><td>Central and Eastern Europe</td><td>4.559000015258789</td><td>0.8500000238418579</td><td>1.0549999475479126</td><td>0.8149999976158142</td><td>0.28299999237060547</td><td>0.0949999988079071</td><td>0.06400000303983688</td></tr><tr><td>117</td><td>Iran</td><td>Middle East and Northern Africa</td><td>4.547999858856201</td><td>1.100000023841858</td><td>0.8420000076293945</td><td>0.7850000262260437</td><td>0.3050000071525574</td><td>0.27000001072883606</td><td>0.125</td></tr><tr><td>118</td><td>Guinea</td><td>Sub-Saharan Africa</td><td>4.533999919891357</td><td>0.3799999952316284</td><td>0.8289999961853027</td><td>0.375</td><td>0.3319999873638153</td><td>0.2070000022649765</td><td>0.0860000029206276</td></tr><tr><td>119</td><td>Georgia</td><td>Central and Eastern Europe</td><td>4.519000053405762</td><td>0.8859999775886536</td><td>0.6660000085830688</td><td>0.7519999742507935</td><td>0.34599998593330383</td><td>0.0430000014603138</td><td>0.164000004529953</td></tr><tr><td>121</td><td>Kenya</td><td>Sub-Saharan Africa</td><td>4.508999824523926</td><td>0.5120000243186951</td><td>0.9829999804496765</td><td>0.5809999704360962</td><td>0.4309999942779541</td><td>0.3720000088214874</td><td>0.05299999937415123</td></tr><tr><td>122</td><td>Mauritania</td><td>Sub-Saharan Africa</td><td>4.489999771118164</td><td>0.5699999928474426</td><td>1.1670000553131104</td><td>0.48899999260902405</td><td>0.06599999964237213</td><td>0.10599999874830246</td><td>0.08799999952316284</td></tr><tr><td>123</td><td>Mozambique</td><td>Sub-Saharan Africa</td><td>4.466000080108643</td><td>0.20399999618530273</td><td>0.9860000014305115</td><td>0.38999998569488525</td><td>0.49399998784065247</td><td>0.19699999690055847</td><td>0.1379999965429306</td></tr><tr><td>124</td><td>Tunisia</td><td>Middle East and Northern Africa</td><td>4.460999965667725</td><td>0.9210000038146973</td><td>1.0</td><td>0.8149999976158142</td><td>0.16699999570846558</td><td>0.05900000035762787</td><td>0.054999999701976776</td></tr><tr><td>125</td><td>Bangladesh</td><td>Southern Asia</td><td>4.455999851226807</td><td>0.5619999766349792</td><td>0.9279999732971191</td><td>0.7229999899864197</td><td>0.5270000100135803</td><td>0.16599999368190765</td><td>0.14300000667572021</td></tr><tr><td>126</td><td>Iraq</td><td>Middle East and Northern Africa</td><td>4.436999797821045</td><td>1.0429999828338623</td><td>0.9800000190734863</td><td>0.5740000009536743</td><td>0.2409999966621399</td><td>0.14800000190734863</td><td>0.08900000154972076</td></tr><tr><td>127</td><td>Congo (Kinshasa)</td><td>Sub-Saharan Africa</td><td>4.418000221252441</td><td>0.09399999678134918</td><td>1.125</td><td>0.3569999933242798</td><td>0.26899999380111694</td><td>0.21199999749660492</td><td>0.05299999937415123</td></tr><tr><td>128</td><td>Mali</td><td>Sub-Saharan Africa</td><td>4.389999866485596</td><td>0.38499999046325684</td><td>1.1050000190734863</td><td>0.30799999833106995</td><td>0.3269999921321869</td><td>0.15299999713897705</td><td>0.052000001072883606</td></tr><tr><td>129</td><td>Sierra Leone</td><td>Sub-Saharan Africa</td><td>4.374000072479248</td><td>0.2680000066757202</td><td>0.8410000205039978</td><td>0.24199999868869781</td><td>0.3089999854564667</td><td>0.25200000405311584</td><td>0.04500000178813934</td></tr><tr><td>130</td><td>Sri Lanka</td><td>Southern Asia</td><td>4.366000175476074</td><td>0.9490000009536743</td><td>1.2649999856948853</td><td>0.8309999704360962</td><td>0.4699999988079071</td><td>0.24400000274181366</td><td>0.04699999839067459</td></tr><tr><td>131</td><td>Myanmar</td><td>Southeastern Asia</td><td>4.360000133514404</td><td>0.7099999785423279</td><td>1.180999994277954</td><td>0.5550000071525574</td><td>0.5249999761581421</td><td>0.5659999847412109</td><td>0.1720000058412552</td></tr><tr><td>132</td><td>Chad</td><td>Sub-Saharan Africa</td><td>4.349999904632568</td><td>0.3499999940395355</td><td>0.765999972820282</td><td>0.19200000166893005</td><td>0.17399999499320984</td><td>0.1979999989271164</td><td>0.07800000160932541</td></tr><tr><td>133</td><td>Ukraine</td><td>Central and Eastern Europe</td><td>4.331999778747559</td><td>0.8199999928474426</td><td>1.3899999856948853</td><td>0.7390000224113464</td><td>0.17800000309944153</td><td>0.18700000643730164</td><td>0.009999999776482582</td></tr><tr><td>134</td><td>Ethiopia</td><td>Sub-Saharan Africa</td><td>4.285999774932861</td><td>0.335999995470047</td><td>1.0329999923706055</td><td>0.5320000052452087</td><td>0.3440000116825104</td><td>0.20900000631809235</td><td>0.10000000149011612</td></tr><tr><td>135</td><td>Swaziland</td><td>Sub-Saharan Africa</td><td>4.211999893188477</td><td>0.8109999895095825</td><td>1.1490000486373901</td><td>0.0</td><td>0.31299999356269836</td><td>0.07400000095367432</td><td>0.13500000536441803</td></tr><tr><td>136</td><td>Uganda</td><td>Sub-Saharan Africa</td><td>4.189000129699707</td><td>0.3319999873638153</td><td>1.069000005722046</td><td>0.4429999887943268</td><td>0.35600000619888306</td><td>0.25200000405311584</td><td>0.05999999865889549</td></tr><tr><td>137</td><td>Egypt</td><td>Middle East and Northern Africa</td><td>4.165999889373779</td><td>0.9129999876022339</td><td>1.0390000343322754</td><td>0.6439999938011169</td><td>0.2409999966621399</td><td>0.07599999755620956</td><td>0.06700000166893005</td></tr><tr><td>138</td><td>Zambia</td><td>Sub-Saharan Africa</td><td>4.10699987411499</td><td>0.578000009059906</td><td>1.0579999685287476</td><td>0.4259999990463257</td><td>0.4309999942779541</td><td>0.24699999392032623</td><td>0.08699999749660492</td></tr><tr><td>139</td><td>Togo</td><td>Sub-Saharan Africa</td><td>4.085000038146973</td><td>0.2750000059604645</td><td>0.5720000267028809</td><td>0.4099999964237213</td><td>0.2930000126361847</td><td>0.1770000010728836</td><td>0.08500000089406967</td></tr><tr><td>140</td><td>India</td><td>Southern Asia</td><td>4.014999866485596</td><td>0.7549999952316284</td><td>0.7649999856948853</td><td>0.5879999995231628</td><td>0.49799999594688416</td><td>0.20000000298023224</td><td>0.08500000089406967</td></tr><tr><td>141</td><td>Liberia</td><td>Sub-Saharan Africa</td><td>3.9749999046325684</td><td>0.0729999989271164</td><td>0.921999990940094</td><td>0.4429999887943268</td><td>0.3700000047683716</td><td>0.2329999953508377</td><td>0.032999999821186066</td></tr><tr><td>142</td><td>Comoros</td><td>Sub-Saharan Africa</td><td>3.9730000495910645</td><td>0.27399998903274536</td><td>0.7570000290870667</td><td>0.5049999952316284</td><td>0.1420000046491623</td><td>0.2750000059604645</td><td>0.07800000160932541</td></tr><tr><td>143</td><td>Madagascar</td><td>Sub-Saharan Africa</td><td>3.933000087738037</td><td>0.27399998903274536</td><td>0.9160000085830688</td><td>0.5550000071525574</td><td>0.14800000190734863</td><td>0.16899999976158142</td><td>0.04100000113248825</td></tr><tr><td>144</td><td>Lesotho</td><td>Sub-Saharan Africa</td><td>3.802000045776367</td><td>0.48899999260902405</td><td>1.1690000295639038</td><td>0.1679999977350235</td><td>0.35899999737739563</td><td>0.10700000077486038</td><td>0.09300000220537186</td></tr><tr><td>145</td><td>Burundi</td><td>Sub-Saharan Africa</td><td>3.7750000953674316</td><td>0.04600000008940697</td><td>0.44699999690055847</td><td>0.3799999952316284</td><td>0.2199999988079071</td><td>0.17599999904632568</td><td>0.18000000715255737</td></tr><tr><td>146</td><td>Zimbabwe</td><td>Sub-Saharan Africa</td><td>3.6630001068115234</td><td>0.3659999966621399</td><td>1.1139999628067017</td><td>0.43299999833106995</td><td>0.3610000014305115</td><td>0.1509999930858612</td><td>0.08900000154972076</td></tr><tr><td>147</td><td>Haiti</td><td>Latin America and Caribbean</td><td>3.5969998836517334</td><td>0.3230000138282776</td><td>0.6880000233650208</td><td>0.4490000009536743</td><td>0.026000000536441803</td><td>0.4189999997615814</td><td>0.10999999940395355</td></tr><tr><td>148</td><td>Botswana</td><td>Sub-Saharan Africa</td><td>3.48799991607666</td><td>1.0410000085830688</td><td>1.1449999809265137</td><td>0.5379999876022339</td><td>0.45500001311302185</td><td>0.02500000037252903</td><td>0.10000000149011612</td></tr><tr><td>149</td><td>Syria</td><td>Middle East and Northern Africa</td><td>3.4619998931884766</td><td>0.6190000176429749</td><td>0.3779999911785126</td><td>0.4399999976158142</td><td>0.013000000268220901</td><td>0.3310000002384186</td><td>0.14100000262260437</td></tr><tr><td>150</td><td>Malawi</td><td>Sub-Saharan Africa</td><td>3.4100000858306885</td><td>0.19099999964237213</td><td>0.5600000023841858</td><td>0.4950000047683716</td><td>0.4429999887943268</td><td>0.21799999475479126</td><td>0.08900000154972076</td></tr><tr><td>151</td><td>Yemen</td><td>Middle East and Northern Africa</td><td>3.380000114440918</td><td>0.28700000047683716</td><td>1.1629999876022339</td><td>0.46299999952316284</td><td>0.14300000667572021</td><td>0.1080000028014183</td><td>0.07699999958276749</td></tr><tr><td>152</td><td>Rwanda</td><td>Sub-Saharan Africa</td><td>3.3340001106262207</td><td>0.35899999737739563</td><td>0.7110000252723694</td><td>0.6140000224113464</td><td>0.5550000071525574</td><td>0.21699999272823334</td><td>0.41100001335144043</td></tr><tr><td>153</td><td>Tanzania</td><td>Sub-Saharan Africa</td><td>3.2309999465942383</td><td>0.47600001096725464</td><td>0.8849999904632568</td><td>0.49900001287460327</td><td>0.4169999957084656</td><td>0.2759999930858612</td><td>0.1469999998807907</td></tr><tr><td>154</td><td>Afghanistan</td><td>Southern Asia</td><td>3.203000068664551</td><td>0.3499999940395355</td><td>0.5170000195503235</td><td>0.3610000014305115</td><td>0.0</td><td>0.15800000727176666</td><td>0.02500000037252903</td></tr><tr><td>155</td><td>Central African Republic</td><td>Sub-Saharan Africa</td><td>3.0829999446868896</td><td>0.026000000536441803</td><td>0.0</td><td>0.10499999672174454</td><td>0.22499999403953552</td><td>0.23499999940395355</td><td>0.03500000014901161</td></tr></tbody></table></div>"
      ]
     },
     "metadata": {
      "application/vnd.databricks.v1+output": {
       "addedWidgets": {},
       "aggData": [],
       "aggError": "",
       "aggOverflow": false,
       "aggSchema": [],
       "aggSeriesLimitReached": false,
       "aggType": "",
       "arguments": {},
       "columnCustomDisplayInfos": {},
       "data": [
        [
         1,
         "Finland",
         "Western Europe",
         7.769000053405762,
         1.340000033378601,
         1.5870000123977661,
         0.9860000014305115,
         0.5960000157356262,
         0.15299999713897705,
         0.3930000066757202
        ],
        [
         2,
         "Denmark",
         "Western Europe",
         7.599999904632568,
         1.3830000162124634,
         1.5729999542236328,
         0.9959999918937683,
         0.5920000076293945,
         0.25200000405311584,
         0.4099999964237213
        ],
        [
         3,
         "Norway",
         "Western Europe",
         7.553999900817871,
         1.4880000352859497,
         1.5820000171661377,
         1.027999997138977,
         0.6029999852180481,
         0.2709999978542328,
         0.3409999907016754
        ],
        [
         4,
         "Iceland",
         "Western Europe",
         7.49399995803833,
         1.3799999952316284,
         1.6239999532699585,
         1.0260000228881836,
         0.5910000205039978,
         0.3540000021457672,
         0.11800000071525574
        ],
        [
         5,
         "Netherlands",
         "Western Europe",
         7.48799991607666,
         1.3960000276565552,
         1.5219999551773071,
         0.9990000128746033,
         0.5569999814033508,
         0.32199999690055847,
         0.2980000078678131
        ],
        [
         6,
         "Switzerland",
         "Western Europe",
         7.480000019073486,
         1.4520000219345093,
         1.5260000228881836,
         1.0520000457763672,
         0.5720000267028809,
         0.2630000114440918,
         0.34299999475479126
        ],
        [
         7,
         "Sweden",
         "Western Europe",
         7.3429999351501465,
         1.3869999647140503,
         1.4869999885559082,
         1.0089999437332153,
         0.5740000009536743,
         0.2669999897480011,
         0.37299999594688416
        ],
        [
         8,
         "New Zealand",
         "Australia and New Zealand",
         7.307000160217285,
         1.3029999732971191,
         1.5570000410079956,
         1.0260000228881836,
         0.5849999785423279,
         0.33000001311302185,
         0.3799999952316284
        ],
        [
         9,
         "Canada",
         "North America",
         7.2779998779296875,
         1.3650000095367432,
         1.5049999952316284,
         1.0390000343322754,
         0.5839999914169312,
         0.2849999964237213,
         0.30799999833106995
        ],
        [
         10,
         "Austria",
         "Western Europe",
         7.245999813079834,
         1.3760000467300415,
         1.475000023841858,
         1.0160000324249268,
         0.5320000052452087,
         0.24400000274181366,
         0.22599999606609344
        ],
        [
         11,
         "Australia",
         "Australia and New Zealand",
         7.228000164031982,
         1.371999979019165,
         1.5479999780654907,
         1.0360000133514404,
         0.5569999814033508,
         0.3319999873638153,
         0.28999999165534973
        ],
        [
         12,
         "Costa Rica",
         "Latin America and Caribbean",
         7.166999816894531,
         1.034000039100647,
         1.440999984741211,
         0.9629999995231628,
         0.5580000281333923,
         0.14399999380111694,
         0.09300000220537186
        ],
        [
         13,
         "Israel",
         "Middle East and Northern Africa",
         7.138999938964844,
         1.2760000228881836,
         1.4550000429153442,
         1.0290000438690186,
         0.3709999918937683,
         0.26100000739097595,
         0.0820000022649765
        ],
        [
         14,
         "Luxembourg",
         "Western Europe",
         7.090000152587891,
         1.6089999675750732,
         1.4789999723434448,
         1.0119999647140503,
         0.5260000228881836,
         0.1940000057220459,
         0.3160000145435333
        ],
        [
         15,
         "United Kingdom",
         "Western Europe",
         7.053999900817871,
         1.3329999446868896,
         1.5379999876022339,
         0.9959999918937683,
         0.44999998807907104,
         0.3479999899864197,
         0.27799999713897705
        ],
        [
         16,
         "Ireland",
         "Western Europe",
         7.020999908447266,
         1.4989999532699585,
         1.5529999732971191,
         0.9990000128746033,
         0.515999972820282,
         0.2980000078678131,
         0.3100000023841858
        ],
        [
         17,
         "Germany",
         "Western Europe",
         6.985000133514404,
         1.3730000257492065,
         1.4539999961853027,
         0.9869999885559082,
         0.4950000047683716,
         0.26100000739097595,
         0.26499998569488525
        ],
        [
         18,
         "Belgium",
         "Western Europe",
         6.922999858856201,
         1.3559999465942383,
         1.503999948501587,
         0.9860000014305115,
         0.4729999899864197,
         0.1599999964237213,
         0.20999999344348907
        ],
        [
         19,
         "United States",
         "North America",
         6.892000198364258,
         1.4329999685287476,
         1.4570000171661377,
         0.8740000128746033,
         0.45399999618530273,
         0.2800000011920929,
         0.12800000607967377
        ],
        [
         20,
         "Czech Republic",
         "Central and Eastern Europe",
         6.8520002365112305,
         1.2690000534057617,
         1.4869999885559082,
         0.9200000166893005,
         0.4569999873638153,
         0.04600000008940697,
         0.035999998450279236
        ],
        [
         21,
         "United Arab Emirates",
         "Middle East and Northern Africa",
         6.824999809265137,
         1.503000020980835,
         1.309999942779541,
         0.824999988079071,
         0.5979999899864197,
         0.2619999945163727,
         0.18199999630451202
        ],
        [
         22,
         "Malta",
         "Western Europe",
         6.72599983215332,
         1.2999999523162842,
         1.5199999809265137,
         0.9990000128746033,
         0.5640000104904175,
         0.375,
         0.1509999930858612
        ],
        [
         23,
         "Mexico",
         "Latin America and Caribbean",
         6.59499979019165,
         1.0700000524520874,
         1.3229999542236328,
         0.8610000014305115,
         0.43299999833106995,
         0.07400000095367432,
         0.0729999989271164
        ],
        [
         24,
         "France",
         "Western Europe",
         6.5920000076293945,
         1.3240000009536743,
         1.472000002861023,
         1.0449999570846558,
         0.4359999895095825,
         0.11100000143051147,
         0.18299999833106995
        ],
        [
         25,
         "Taiwan",
         "Eastern Asia",
         6.446000099182129,
         1.3680000305175781,
         1.4299999475479126,
         0.9139999747276306,
         0.35100001096725464,
         0.24199999868869781,
         0.09700000286102295
        ],
        [
         26,
         "Chile",
         "Latin America and Caribbean",
         6.443999767303467,
         1.159000039100647,
         1.36899995803833,
         0.9200000166893005,
         0.3569999933242798,
         0.18700000643730164,
         0.0560000017285347
        ],
        [
         27,
         "Guatemala",
         "Latin America and Caribbean",
         6.435999870300293,
         0.800000011920929,
         1.2690000534057617,
         0.7459999918937683,
         0.5350000262260437,
         0.17499999701976776,
         0.07800000160932541
        ],
        [
         28,
         "Saudi Arabia",
         "Middle East and Northern Africa",
         6.375,
         1.402999997138977,
         1.3569999933242798,
         0.7950000166893005,
         0.4390000104904175,
         0.07999999821186066,
         0.13199999928474426
        ],
        [
         29,
         "Qatar",
         "Middle East and Northern Africa",
         6.374000072479248,
         1.684000015258789,
         1.312999963760376,
         0.8709999918937683,
         0.5550000071525574,
         0.2199999988079071,
         0.16699999570846558
        ],
        [
         30,
         "Spain",
         "Western Europe",
         6.354000091552734,
         1.2860000133514404,
         1.4839999675750732,
         1.062000036239624,
         0.3619999885559082,
         0.15299999713897705,
         0.07900000363588333
        ],
        [
         31,
         "Panama",
         "Latin America and Caribbean",
         6.321000099182129,
         1.1490000486373901,
         1.4420000314712524,
         0.9100000262260437,
         0.515999972820282,
         0.10899999737739563,
         0.05400000140070915
        ],
        [
         32,
         "Brazil",
         "Latin America and Caribbean",
         6.300000190734863,
         1.003999948501587,
         1.4390000104904175,
         0.8019999861717224,
         0.38999998569488525,
         0.0989999994635582,
         0.0860000029206276
        ],
        [
         33,
         "Uruguay",
         "Latin America and Caribbean",
         6.293000221252441,
         1.1239999532699585,
         1.465000033378601,
         0.890999972820282,
         0.5230000019073486,
         0.12700000405311584,
         0.15000000596046448
        ],
        [
         34,
         "Singapore",
         "Southeastern Asia",
         6.26200008392334,
         1.5720000267028809,
         1.4630000591278076,
         1.1410000324249268,
         0.5559999942779541,
         0.2709999978542328,
         0.453000009059906
        ],
        [
         35,
         "El Salvador",
         "Latin America and Caribbean",
         6.252999782562256,
         0.7940000295639038,
         1.2419999837875366,
         0.7889999747276306,
         0.4300000071525574,
         0.09300000220537186,
         0.07400000095367432
        ],
        [
         36,
         "Italy",
         "Western Europe",
         6.2230000495910645,
         1.2940000295639038,
         1.4880000352859497,
         1.0390000343322754,
         0.23100000619888306,
         0.15800000727176666,
         0.029999999329447746
        ],
        [
         37,
         "Bahrain",
         "Middle East and Northern Africa",
         6.198999881744385,
         1.3619999885559082,
         1.3680000305175781,
         0.8709999918937683,
         0.5360000133514404,
         0.2549999952316284,
         0.10999999940395355
        ],
        [
         38,
         "Slovakia",
         "Central and Eastern Europe",
         6.197999954223633,
         1.246000051498413,
         1.503999948501587,
         0.8809999823570251,
         0.33399999141693115,
         0.12099999934434891,
         0.014000000432133675
        ],
        [
         40,
         "Poland",
         "Central and Eastern Europe",
         6.182000160217285,
         1.2059999704360962,
         1.437999963760376,
         0.8840000033378601,
         0.4830000102519989,
         0.11699999868869781,
         0.05000000074505806
        ],
        [
         41,
         "Uzbekistan",
         "Central and Eastern Europe",
         6.173999786376953,
         0.7450000047683716,
         1.5290000438690186,
         0.7559999823570251,
         0.6309999823570251,
         0.32199999690055847,
         0.23999999463558197
        ],
        [
         42,
         "Lithuania",
         "Central and Eastern Europe",
         6.14900016784668,
         1.2380000352859497,
         1.5149999856948853,
         0.8180000185966492,
         0.29100000858306885,
         0.0430000014603138,
         0.041999999433755875
        ],
        [
         43,
         "Colombia",
         "Latin America and Caribbean",
         6.125,
         0.9850000143051147,
         1.409999966621399,
         0.8410000205039978,
         0.4699999988079071,
         0.0989999994635582,
         0.03400000184774399
        ],
        [
         44,
         "Slovenia",
         "Central and Eastern Europe",
         6.118000030517578,
         1.2580000162124634,
         1.5230000019073486,
         0.953000009059906,
         0.5640000104904175,
         0.14399999380111694,
         0.05700000002980232
        ],
        [
         45,
         "Nicaragua",
         "Latin America and Caribbean",
         6.105000019073486,
         0.6940000057220459,
         1.3250000476837158,
         0.8349999785423279,
         0.4350000023841858,
         0.20000000298023224,
         0.12700000405311584
        ],
        [
         46,
         "Kosovo",
         "Central and Eastern Europe",
         6.099999904632568,
         0.8820000290870667,
         1.2319999933242798,
         0.7580000162124634,
         0.48899999260902405,
         0.2619999945163727,
         0.006000000052154064
        ],
        [
         47,
         "Argentina",
         "Latin America and Caribbean",
         6.085999965667725,
         1.0920000076293945,
         1.4320000410079956,
         0.8809999823570251,
         0.47099998593330383,
         0.06599999964237213,
         0.05000000074505806
        ],
        [
         48,
         "Romania",
         "Central and Eastern Europe",
         6.070000171661377,
         1.1619999408721924,
         1.2319999933242798,
         0.824999988079071,
         0.4620000123977661,
         0.08299999684095383,
         0.004999999888241291
        ],
        [
         49,
         "Cyprus",
         "Western Europe",
         6.046000003814697,
         1.2630000114440918,
         1.2230000495910645,
         1.0420000553131104,
         0.4059999883174896,
         0.1899999976158142,
         0.04100000113248825
        ],
        [
         50,
         "Ecuador",
         "Latin America and Caribbean",
         6.0279998779296875,
         0.9120000004768372,
         1.312000036239624,
         0.8679999709129333,
         0.49799999594688416,
         0.12600000202655792,
         0.08699999749660492
        ],
        [
         51,
         "Kuwait",
         "Middle East and Northern Africa",
         6.020999908447266,
         1.5,
         1.319000005722046,
         0.8080000281333923,
         0.49300000071525574,
         0.1420000046491623,
         0.09700000286102295
        ],
        [
         52,
         "Thailand",
         "Southeastern Asia",
         6.007999897003174,
         1.0499999523162842,
         1.409000039100647,
         0.828000009059906,
         0.5569999814033508,
         0.35899999737739563,
         0.02800000086426735
        ],
        [
         53,
         "Latvia",
         "Central and Eastern Europe",
         5.940000057220459,
         1.187000036239624,
         1.465000033378601,
         0.8119999766349792,
         0.2639999985694885,
         0.07500000298023224,
         0.06400000303983688
        ],
        [
         54,
         "South Korea",
         "Eastern Asia",
         5.894999980926514,
         1.3009999990463257,
         1.218999981880188,
         1.0360000133514404,
         0.1589999943971634,
         0.17499999701976776,
         0.0560000017285347
        ],
        [
         55,
         "Estonia",
         "Central and Eastern Europe",
         5.89300012588501,
         1.2369999885559082,
         1.527999997138977,
         0.8740000128746033,
         0.4950000047683716,
         0.10300000011920929,
         0.16099999845027924
        ],
        [
         56,
         "Jamaica",
         "Latin America and Caribbean",
         5.889999866485596,
         0.8309999704360962,
         1.4780000448226929,
         0.8309999704360962,
         0.49000000953674316,
         0.10700000077486038,
         0.02800000086426735
        ],
        [
         57,
         "Mauritius",
         "Sub-Saharan Africa",
         5.888000011444092,
         1.1200000047683716,
         1.4019999504089355,
         0.7979999780654907,
         0.49799999594688416,
         0.2150000035762787,
         0.05999999865889549
        ],
        [
         58,
         "Japan",
         "Eastern Asia",
         5.886000156402588,
         1.3270000219345093,
         1.4190000295639038,
         1.0880000591278076,
         0.4449999928474426,
         0.0689999982714653,
         0.14000000059604645
        ],
        [
         59,
         "Honduras",
         "Latin America and Caribbean",
         5.860000133514404,
         0.6420000195503235,
         1.2359999418258667,
         0.828000009059906,
         0.5070000290870667,
         0.2460000067949295,
         0.07800000160932541
        ],
        [
         60,
         "Kazakhstan",
         "Central and Eastern Europe",
         5.809000015258789,
         1.1729999780654907,
         1.5080000162124634,
         0.7289999723434448,
         0.4099999964237213,
         0.1459999978542328,
         0.09600000083446503
        ],
        [
         61,
         "Bolivia",
         "Latin America and Caribbean",
         5.7789998054504395,
         0.7760000228881836,
         1.2089999914169312,
         0.7059999704360962,
         0.5109999775886536,
         0.13699999451637268,
         0.06400000303983688
        ],
        [
         62,
         "Hungary",
         "Central and Eastern Europe",
         5.757999897003174,
         1.2009999752044678,
         1.409999966621399,
         0.828000009059906,
         0.19900000095367432,
         0.08100000023841858,
         0.019999999552965164
        ],
        [
         63,
         "Paraguay",
         "Latin America and Caribbean",
         5.743000030517578,
         0.8550000190734863,
         1.475000023841858,
         0.7770000100135803,
         0.5139999985694885,
         0.18400000035762787,
         0.07999999821186066
        ],
        [
         65,
         "Peru",
         "Latin America and Caribbean",
         5.697000026702881,
         0.9599999785423279,
         1.2740000486373901,
         0.8539999723434448,
         0.45500001311302185,
         0.08299999684095383,
         0.027000000700354576
        ],
        [
         66,
         "Portugal",
         "Western Europe",
         5.692999839782715,
         1.2209999561309814,
         1.430999994277954,
         0.9990000128746033,
         0.5080000162124634,
         0.04699999839067459,
         0.02500000037252903
        ],
        [
         67,
         "Pakistan",
         "Southern Asia",
         5.6529998779296875,
         0.6769999861717224,
         0.8859999775886536,
         0.5350000262260437,
         0.31299999356269836,
         0.2199999988079071,
         0.09799999743700027
        ],
        [
         68,
         "Russia",
         "Central and Eastern Europe",
         5.6479997634887695,
         1.1829999685287476,
         1.4520000219345093,
         0.7260000109672546,
         0.33399999141693115,
         0.0820000022649765,
         0.03099999949336052
        ],
        [
         69,
         "Philippines",
         "Southeastern Asia",
         5.63100004196167,
         0.8069999814033508,
         1.2929999828338623,
         0.6570000052452087,
         0.5580000281333923,
         0.11699999868869781,
         0.10700000077486038
        ],
        [
         70,
         "Serbia",
         "Central and Eastern Europe",
         5.603000164031982,
         1.003999948501587,
         1.3830000162124634,
         0.8539999723434448,
         0.28200000524520874,
         0.13699999451637268,
         0.039000000804662704
        ],
        [
         71,
         "Moldova",
         "Central and Eastern Europe",
         5.5289998054504395,
         0.6850000023841858,
         1.3279999494552612,
         0.7390000224113464,
         0.24500000476837158,
         0.1809999942779541,
         0.0
        ],
        [
         72,
         "Libya",
         "Middle East and Northern Africa",
         5.525000095367432,
         1.0440000295639038,
         1.3029999732971191,
         0.6729999780654907,
         0.41600000858306885,
         0.13300000131130219,
         0.15199999511241913
        ],
        [
         73,
         "Montenegro",
         "Central and Eastern Europe",
         5.5229997634887695,
         1.0509999990463257,
         1.3609999418258667,
         0.8709999918937683,
         0.19699999690055847,
         0.1420000046491623,
         0.07999999821186066
        ],
        [
         74,
         "Tajikistan",
         "Central and Eastern Europe",
         5.4670000076293945,
         0.49300000071525574,
         1.0980000495910645,
         0.7179999947547913,
         0.3889999985694885,
         0.23000000417232513,
         0.14399999380111694
        ],
        [
         75,
         "Croatia",
         "Central and Eastern Europe",
         5.432000160217285,
         1.1549999713897705,
         1.2660000324249268,
         0.9139999747276306,
         0.29600000381469727,
         0.11900000274181366,
         0.02199999988079071
        ],
        [
         76,
         "Hong Kong",
         "Eastern Asia",
         5.429999828338623,
         1.437999963760376,
         1.2769999504089355,
         1.121999979019165,
         0.4399999976158142,
         0.257999986410141,
         0.28700000047683716
        ],
        [
         77,
         "Dominican Republic",
         "Latin America and Caribbean",
         5.425000190734863,
         1.0149999856948853,
         1.4010000228881836,
         0.7789999842643738,
         0.4970000088214874,
         0.11299999803304672,
         0.10100000351667404
        ],
        [
         78,
         "Bosnia and Herzegovina",
         "Central and Eastern Europe",
         5.386000156402588,
         0.9449999928474426,
         1.2120000123977661,
         0.8450000286102295,
         0.21199999749660492,
         0.2630000114440918,
         0.006000000052154064
        ],
        [
         79,
         "Turkey",
         "Middle East and Northern Africa",
         5.373000144958496,
         1.1829999685287476,
         1.3600000143051147,
         0.8080000281333923,
         0.19499999284744263,
         0.08299999684095383,
         0.10599999874830246
        ],
        [
         80,
         "Malaysia",
         "Southeastern Asia",
         5.339000225067139,
         1.2209999561309814,
         1.1710000038146973,
         0.828000009059906,
         0.5080000162124634,
         0.25999999046325684,
         0.024000000208616257
        ],
        [
         81,
         "Belarus",
         "Central and Eastern Europe",
         5.322999954223633,
         1.0670000314712524,
         1.465000033378601,
         0.7889999747276306,
         0.23499999940395355,
         0.09399999678134918,
         0.1420000046491623
        ],
        [
         82,
         "Greece",
         "Western Europe",
         5.2870001792907715,
         1.180999994277954,
         1.156000018119812,
         0.9990000128746033,
         0.06700000166893005,
         0.0,
         0.03400000184774399
        ],
        [
         83,
         "Mongolia",
         "Eastern Asia",
         5.284999847412109,
         0.9480000138282776,
         1.531000018119812,
         0.6669999957084656,
         0.31700000166893005,
         0.23499999940395355,
         0.03799999877810478
        ],
        [
         85,
         "Nigeria",
         "Sub-Saharan Africa",
         5.264999866485596,
         0.6959999799728394,
         1.1109999418258667,
         0.24500000476837158,
         0.4259999990463257,
         0.2150000035762787,
         0.04100000113248825
        ],
        [
         86,
         "Kyrgyzstan",
         "Central and Eastern Europe",
         5.261000156402588,
         0.5509999990463257,
         1.437999963760376,
         0.7229999899864197,
         0.5080000162124634,
         0.30000001192092896,
         0.023000000044703484
        ],
        [
         87,
         "Turkmenistan",
         "Central and Eastern Europe",
         5.247000217437744,
         1.0520000457763672,
         1.5379999876022339,
         0.6570000052452087,
         0.39399999380111694,
         0.24400000274181366,
         0.02800000086426735
        ],
        [
         88,
         "Algeria",
         "Middle East and Northern Africa",
         5.210999965667725,
         1.0019999742507935,
         1.159999966621399,
         0.7850000262260437,
         0.0860000029206276,
         0.0729999989271164,
         0.11400000005960464
        ],
        [
         89,
         "Morocco",
         "Middle East and Northern Africa",
         5.208000183105469,
         0.8009999990463257,
         0.7820000052452087,
         0.7820000052452087,
         0.4180000126361847,
         0.035999998450279236,
         0.07599999755620956
        ],
        [
         90,
         "Azerbaijan",
         "Central and Eastern Europe",
         5.208000183105469,
         1.0429999828338623,
         1.1469999551773071,
         0.7689999938011169,
         0.35100001096725464,
         0.03500000014901161,
         0.18199999630451202
        ],
        [
         91,
         "Lebanon",
         "Middle East and Northern Africa",
         5.197000026702881,
         0.9869999885559082,
         1.2239999771118164,
         0.8149999976158142,
         0.2160000056028366,
         0.16599999368190765,
         0.027000000700354576
        ],
        [
         92,
         "Indonesia",
         "Southeastern Asia",
         5.191999912261963,
         0.9309999942779541,
         1.2029999494552612,
         0.6600000262260437,
         0.4909999966621399,
         0.49799999594688416,
         0.02800000086426735
        ],
        [
         93,
         "China",
         "Eastern Asia",
         5.190999984741211,
         1.0290000438690186,
         1.125,
         0.8930000066757202,
         0.5210000276565552,
         0.057999998331069946,
         0.10000000149011612
        ],
        [
         94,
         "Vietnam",
         "Southeastern Asia",
         5.175000190734863,
         0.7409999966621399,
         1.3459999561309814,
         0.8510000109672546,
         0.5429999828338623,
         0.1469999998807907,
         0.0729999989271164
        ],
        [
         95,
         "Bhutan",
         "Southern Asia",
         5.081999778747559,
         0.8130000233650208,
         1.3209999799728394,
         0.6039999723434448,
         0.4569999873638153,
         0.3700000047683716,
         0.16699999570846558
        ],
        [
         96,
         "Cameroon",
         "Sub-Saharan Africa",
         5.044000148773193,
         0.5490000247955322,
         0.9100000262260437,
         0.3310000002384186,
         0.38100001215934753,
         0.18700000643730164,
         0.03700000047683716
        ],
        [
         97,
         "Bulgaria",
         "Central and Eastern Europe",
         5.011000156402588,
         1.0920000076293945,
         1.5130000114440918,
         0.8149999976158142,
         0.3109999895095825,
         0.08100000023841858,
         0.004000000189989805
        ],
        [
         98,
         "Ghana",
         "Sub-Saharan Africa",
         4.995999813079834,
         0.6110000014305115,
         0.8679999709129333,
         0.4860000014305115,
         0.38100001215934753,
         0.24500000476837158,
         0.03999999910593033
        ],
        [
         99,
         "Ivory Coast",
         "Sub-Saharan Africa",
         4.943999767303467,
         0.5690000057220459,
         0.8080000281333923,
         0.23199999332427979,
         0.35199999809265137,
         0.15399999916553497,
         0.09000000357627869
        ],
        [
         100,
         "Nepal",
         "Southern Asia",
         4.913000106811523,
         0.44600000977516174,
         1.2259999513626099,
         0.6769999861717224,
         0.4390000104904175,
         0.2849999964237213,
         0.08900000154972076
        ],
        [
         101,
         "Jordan",
         "Middle East and Northern Africa",
         4.906000137329102,
         0.8370000123977661,
         1.225000023841858,
         0.8149999976158142,
         0.382999986410141,
         0.10999999940395355,
         0.12999999523162842
        ],
        [
         102,
         "Benin",
         "Sub-Saharan Africa",
         4.882999897003174,
         0.3930000066757202,
         0.43700000643730164,
         0.3970000147819519,
         0.3490000069141388,
         0.17499999701976776,
         0.0820000022649765
        ],
        [
         103,
         "Congo (Brazzaville)",
         "Sub-Saharan Africa",
         4.811999797821045,
         0.6729999780654907,
         0.7990000247955322,
         0.5080000162124634,
         0.3720000088214874,
         0.10499999672174454,
         0.09300000220537186
        ],
        [
         104,
         "Gabon",
         "Sub-Saharan Africa",
         4.798999786376953,
         1.0570000410079956,
         1.1829999685287476,
         0.5709999799728394,
         0.29499998688697815,
         0.0430000014603138,
         0.054999999701976776
        ],
        [
         105,
         "Laos",
         "Southeastern Asia",
         4.796000003814697,
         0.7639999985694885,
         1.0299999713897705,
         0.5509999990463257,
         0.546999990940094,
         0.26600000262260437,
         0.164000004529953
        ],
        [
         106,
         "South Africa",
         "Sub-Saharan Africa",
         4.7220001220703125,
         0.9599999785423279,
         1.3509999513626099,
         0.4690000116825104,
         0.3889999985694885,
         0.12999999523162842,
         0.054999999701976776
        ],
        [
         107,
         "Albania",
         "Central and Eastern Europe",
         4.718999862670898,
         0.9470000267028809,
         0.8479999899864197,
         0.8740000128746033,
         0.382999986410141,
         0.17800000309944153,
         0.027000000700354576
        ],
        [
         108,
         "Venezuela",
         "Latin America and Caribbean",
         4.706999778747559,
         0.9599999785423279,
         1.4270000457763672,
         0.8050000071525574,
         0.15399999916553497,
         0.06400000303983688,
         0.04699999839067459
        ],
        [
         109,
         "Cambodia",
         "Southeastern Asia",
         4.699999809265137,
         0.5740000009536743,
         1.121999979019165,
         0.6370000243186951,
         0.609000027179718,
         0.23199999332427979,
         0.06199999898672104
        ],
        [
         110,
         "Palestinian Territories",
         "Middle East and Northern Africa",
         4.696000099182129,
         0.6570000052452087,
         1.246999979019165,
         0.671999990940094,
         0.22499999403953552,
         0.10300000011920929,
         0.06599999964237213
        ],
        [
         111,
         "Senegal",
         "Sub-Saharan Africa",
         4.681000232696533,
         0.44999998807907104,
         1.1339999437332153,
         0.5709999799728394,
         0.2919999957084656,
         0.15299999713897705,
         0.07199999690055847
        ],
        [
         114,
         "Niger",
         "Sub-Saharan Africa",
         4.627999782562256,
         0.1379999965429306,
         0.7739999890327454,
         0.3659999966621399,
         0.3179999887943268,
         0.18799999356269836,
         0.10199999809265137
        ],
        [
         115,
         "Burkina Faso",
         "Sub-Saharan Africa",
         4.586999893188477,
         0.3310000002384186,
         1.055999994277954,
         0.3799999952316284,
         0.2549999952316284,
         0.1770000010728836,
         0.11299999803304672
        ],
        [
         116,
         "Armenia",
         "Central and Eastern Europe",
         4.559000015258789,
         0.8500000238418579,
         1.0549999475479126,
         0.8149999976158142,
         0.28299999237060547,
         0.0949999988079071,
         0.06400000303983688
        ],
        [
         117,
         "Iran",
         "Middle East and Northern Africa",
         4.547999858856201,
         1.100000023841858,
         0.8420000076293945,
         0.7850000262260437,
         0.3050000071525574,
         0.27000001072883606,
         0.125
        ],
        [
         118,
         "Guinea",
         "Sub-Saharan Africa",
         4.533999919891357,
         0.3799999952316284,
         0.8289999961853027,
         0.375,
         0.3319999873638153,
         0.2070000022649765,
         0.0860000029206276
        ],
        [
         119,
         "Georgia",
         "Central and Eastern Europe",
         4.519000053405762,
         0.8859999775886536,
         0.6660000085830688,
         0.7519999742507935,
         0.34599998593330383,
         0.0430000014603138,
         0.164000004529953
        ],
        [
         121,
         "Kenya",
         "Sub-Saharan Africa",
         4.508999824523926,
         0.5120000243186951,
         0.9829999804496765,
         0.5809999704360962,
         0.4309999942779541,
         0.3720000088214874,
         0.05299999937415123
        ],
        [
         122,
         "Mauritania",
         "Sub-Saharan Africa",
         4.489999771118164,
         0.5699999928474426,
         1.1670000553131104,
         0.48899999260902405,
         0.06599999964237213,
         0.10599999874830246,
         0.08799999952316284
        ],
        [
         123,
         "Mozambique",
         "Sub-Saharan Africa",
         4.466000080108643,
         0.20399999618530273,
         0.9860000014305115,
         0.38999998569488525,
         0.49399998784065247,
         0.19699999690055847,
         0.1379999965429306
        ],
        [
         124,
         "Tunisia",
         "Middle East and Northern Africa",
         4.460999965667725,
         0.9210000038146973,
         1.0,
         0.8149999976158142,
         0.16699999570846558,
         0.05900000035762787,
         0.054999999701976776
        ],
        [
         125,
         "Bangladesh",
         "Southern Asia",
         4.455999851226807,
         0.5619999766349792,
         0.9279999732971191,
         0.7229999899864197,
         0.5270000100135803,
         0.16599999368190765,
         0.14300000667572021
        ],
        [
         126,
         "Iraq",
         "Middle East and Northern Africa",
         4.436999797821045,
         1.0429999828338623,
         0.9800000190734863,
         0.5740000009536743,
         0.2409999966621399,
         0.14800000190734863,
         0.08900000154972076
        ],
        [
         127,
         "Congo (Kinshasa)",
         "Sub-Saharan Africa",
         4.418000221252441,
         0.09399999678134918,
         1.125,
         0.3569999933242798,
         0.26899999380111694,
         0.21199999749660492,
         0.05299999937415123
        ],
        [
         128,
         "Mali",
         "Sub-Saharan Africa",
         4.389999866485596,
         0.38499999046325684,
         1.1050000190734863,
         0.30799999833106995,
         0.3269999921321869,
         0.15299999713897705,
         0.052000001072883606
        ],
        [
         129,
         "Sierra Leone",
         "Sub-Saharan Africa",
         4.374000072479248,
         0.2680000066757202,
         0.8410000205039978,
         0.24199999868869781,
         0.3089999854564667,
         0.25200000405311584,
         0.04500000178813934
        ],
        [
         130,
         "Sri Lanka",
         "Southern Asia",
         4.366000175476074,
         0.9490000009536743,
         1.2649999856948853,
         0.8309999704360962,
         0.4699999988079071,
         0.24400000274181366,
         0.04699999839067459
        ],
        [
         131,
         "Myanmar",
         "Southeastern Asia",
         4.360000133514404,
         0.7099999785423279,
         1.180999994277954,
         0.5550000071525574,
         0.5249999761581421,
         0.5659999847412109,
         0.1720000058412552
        ],
        [
         132,
         "Chad",
         "Sub-Saharan Africa",
         4.349999904632568,
         0.3499999940395355,
         0.765999972820282,
         0.19200000166893005,
         0.17399999499320984,
         0.1979999989271164,
         0.07800000160932541
        ],
        [
         133,
         "Ukraine",
         "Central and Eastern Europe",
         4.331999778747559,
         0.8199999928474426,
         1.3899999856948853,
         0.7390000224113464,
         0.17800000309944153,
         0.18700000643730164,
         0.009999999776482582
        ],
        [
         134,
         "Ethiopia",
         "Sub-Saharan Africa",
         4.285999774932861,
         0.335999995470047,
         1.0329999923706055,
         0.5320000052452087,
         0.3440000116825104,
         0.20900000631809235,
         0.10000000149011612
        ],
        [
         135,
         "Swaziland",
         "Sub-Saharan Africa",
         4.211999893188477,
         0.8109999895095825,
         1.1490000486373901,
         0.0,
         0.31299999356269836,
         0.07400000095367432,
         0.13500000536441803
        ],
        [
         136,
         "Uganda",
         "Sub-Saharan Africa",
         4.189000129699707,
         0.3319999873638153,
         1.069000005722046,
         0.4429999887943268,
         0.35600000619888306,
         0.25200000405311584,
         0.05999999865889549
        ],
        [
         137,
         "Egypt",
         "Middle East and Northern Africa",
         4.165999889373779,
         0.9129999876022339,
         1.0390000343322754,
         0.6439999938011169,
         0.2409999966621399,
         0.07599999755620956,
         0.06700000166893005
        ],
        [
         138,
         "Zambia",
         "Sub-Saharan Africa",
         4.10699987411499,
         0.578000009059906,
         1.0579999685287476,
         0.4259999990463257,
         0.4309999942779541,
         0.24699999392032623,
         0.08699999749660492
        ],
        [
         139,
         "Togo",
         "Sub-Saharan Africa",
         4.085000038146973,
         0.2750000059604645,
         0.5720000267028809,
         0.4099999964237213,
         0.2930000126361847,
         0.1770000010728836,
         0.08500000089406967
        ],
        [
         140,
         "India",
         "Southern Asia",
         4.014999866485596,
         0.7549999952316284,
         0.7649999856948853,
         0.5879999995231628,
         0.49799999594688416,
         0.20000000298023224,
         0.08500000089406967
        ],
        [
         141,
         "Liberia",
         "Sub-Saharan Africa",
         3.9749999046325684,
         0.0729999989271164,
         0.921999990940094,
         0.4429999887943268,
         0.3700000047683716,
         0.2329999953508377,
         0.032999999821186066
        ],
        [
         142,
         "Comoros",
         "Sub-Saharan Africa",
         3.9730000495910645,
         0.27399998903274536,
         0.7570000290870667,
         0.5049999952316284,
         0.1420000046491623,
         0.2750000059604645,
         0.07800000160932541
        ],
        [
         143,
         "Madagascar",
         "Sub-Saharan Africa",
         3.933000087738037,
         0.27399998903274536,
         0.9160000085830688,
         0.5550000071525574,
         0.14800000190734863,
         0.16899999976158142,
         0.04100000113248825
        ],
        [
         144,
         "Lesotho",
         "Sub-Saharan Africa",
         3.802000045776367,
         0.48899999260902405,
         1.1690000295639038,
         0.1679999977350235,
         0.35899999737739563,
         0.10700000077486038,
         0.09300000220537186
        ],
        [
         145,
         "Burundi",
         "Sub-Saharan Africa",
         3.7750000953674316,
         0.04600000008940697,
         0.44699999690055847,
         0.3799999952316284,
         0.2199999988079071,
         0.17599999904632568,
         0.18000000715255737
        ],
        [
         146,
         "Zimbabwe",
         "Sub-Saharan Africa",
         3.6630001068115234,
         0.3659999966621399,
         1.1139999628067017,
         0.43299999833106995,
         0.3610000014305115,
         0.1509999930858612,
         0.08900000154972076
        ],
        [
         147,
         "Haiti",
         "Latin America and Caribbean",
         3.5969998836517334,
         0.3230000138282776,
         0.6880000233650208,
         0.4490000009536743,
         0.026000000536441803,
         0.4189999997615814,
         0.10999999940395355
        ],
        [
         148,
         "Botswana",
         "Sub-Saharan Africa",
         3.48799991607666,
         1.0410000085830688,
         1.1449999809265137,
         0.5379999876022339,
         0.45500001311302185,
         0.02500000037252903,
         0.10000000149011612
        ],
        [
         149,
         "Syria",
         "Middle East and Northern Africa",
         3.4619998931884766,
         0.6190000176429749,
         0.3779999911785126,
         0.4399999976158142,
         0.013000000268220901,
         0.3310000002384186,
         0.14100000262260437
        ],
        [
         150,
         "Malawi",
         "Sub-Saharan Africa",
         3.4100000858306885,
         0.19099999964237213,
         0.5600000023841858,
         0.4950000047683716,
         0.4429999887943268,
         0.21799999475479126,
         0.08900000154972076
        ],
        [
         151,
         "Yemen",
         "Middle East and Northern Africa",
         3.380000114440918,
         0.28700000047683716,
         1.1629999876022339,
         0.46299999952316284,
         0.14300000667572021,
         0.1080000028014183,
         0.07699999958276749
        ],
        [
         152,
         "Rwanda",
         "Sub-Saharan Africa",
         3.3340001106262207,
         0.35899999737739563,
         0.7110000252723694,
         0.6140000224113464,
         0.5550000071525574,
         0.21699999272823334,
         0.41100001335144043
        ],
        [
         153,
         "Tanzania",
         "Sub-Saharan Africa",
         3.2309999465942383,
         0.47600001096725464,
         0.8849999904632568,
         0.49900001287460327,
         0.4169999957084656,
         0.2759999930858612,
         0.1469999998807907
        ],
        [
         154,
         "Afghanistan",
         "Southern Asia",
         3.203000068664551,
         0.3499999940395355,
         0.5170000195503235,
         0.3610000014305115,
         0.0,
         0.15800000727176666,
         0.02500000037252903
        ],
        [
         155,
         "Central African Republic",
         "Sub-Saharan Africa",
         3.0829999446868896,
         0.026000000536441803,
         0.0,
         0.10499999672174454,
         0.22499999403953552,
         0.23499999940395355,
         0.03500000014901161
        ]
       ],
       "datasetInfos": [],
       "dbfsResultPath": null,
       "isJsonSchema": true,
       "metadata": {},
       "overflow": false,
       "plotOptions": {
        "customPlotOptions": {},
        "displayType": "table",
        "pivotAggregation": null,
        "pivotColumns": null,
        "xColumns": null,
        "yColumns": null
       },
       "removedWidgets": [],
       "schema": [
        {
         "metadata": "{}",
         "name": "rank",
         "type": "\"long\""
        },
        {
         "metadata": "{}",
         "name": "country",
         "type": "\"string\""
        },
        {
         "metadata": "{}",
         "name": "region",
         "type": "\"string\""
        },
        {
         "metadata": "{}",
         "name": "score",
         "type": "\"double\""
        },
        {
         "metadata": "{}",
         "name": "gdp",
         "type": "\"double\""
        },
        {
         "metadata": "{}",
         "name": "support",
         "type": "\"double\""
        },
        {
         "metadata": "{}",
         "name": "life_expectancy",
         "type": "\"double\""
        },
        {
         "metadata": "{}",
         "name": "freedom",
         "type": "\"double\""
        },
        {
         "metadata": "{}",
         "name": "generosity",
         "type": "\"double\""
        },
        {
         "metadata": "{}",
         "name": "corruption",
         "type": "\"double\""
        }
       ],
       "type": "table"
      }
     },
     "output_type": "display_data"
    }
   ],
   "source": [
    "col_names = \"rank|country|region|score|gdp|support|life_expectancy|freedom|generosity|corruption\".split(\"|\")\n",
    "df_happiness = spark.createDataFrame(data_list, col_names)\n",
    "display(df_happiness)"
   ]
  }
 ],
 "metadata": {
  "application/vnd.databricks.v1+notebook": {
   "dashboards": [],
   "environmentMetadata": null,
   "language": "python",
   "notebookMetadata": {
    "pythonIndentUnit": 2
   },
   "notebookName": "Happiness with Country",
   "widgets": {}
  }
 },
 "nbformat": 4,
 "nbformat_minor": 0
}
